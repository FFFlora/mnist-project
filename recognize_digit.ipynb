{
 "cells": [
  {
   "cell_type": "markdown",
   "metadata": {
    "collapsed": false
   },
   "source": [
    "This project uses deep neural network(DNN)to predict hand-written digit graphs.  \n",
    "![](https://ai-studio-static-online.cdn.bcebos.com/ba26eac845334208851e72c7a2dfef5e1eec566894ba430aba7492e72c49cacd)"
   ]
  },
  {
   "cell_type": "markdown",
   "metadata": {
    "collapsed": false
   },
   "source": [
    " The flow chart shown as follows:"
   ]
  },
  {
   "cell_type": "markdown",
   "metadata": {
    "collapsed": false
   },
   "source": [
    "![](https://raw.githubusercontent.com/ffflora/mnist-project/master/flow-chart.PNG)"
   ]
  },
  {
   "cell_type": "markdown",
   "metadata": {
    "collapsed": false
   },
   "source": [
    "Packages:\n",
    "\n",
    "numpy  \n",
    "PIL------------> Python Image Library  \n",
    "matplotlib  \n",
    "os  \n",
    "paddle --------> Neural network model"
   ]
  },
  {
   "cell_type": "code",
   "execution_count": 1,
   "metadata": {
    "collapsed": false
   },
   "outputs": [],
   "source": [
    "\r\n",
    "import numpy as np\r\n",
    "import paddle as paddle\r\n",
    "import paddle.fluid as fluid\r\n",
    "from PIL import Image\r\n",
    "import matplotlib.pyplot as plt\r\n",
    "import os"
   ]
  },
  {
   "cell_type": "markdown",
   "metadata": {
    "collapsed": false
   },
   "source": [
    "# **Step1：Data Preperation**\n",
    "\n",
    "(1)Dataset:  \n",
    "\n",
    "MNIST contains 60000 in training set and 10000 in test set. \n",
    "It has graphs and labels, graphs are in 28*28 pixels, labels are in 1-9.\n",
    "\n",
    "![](https://ai-studio-static-online.cdn.bcebos.com/fc73217ae57f451a89badc801a903bb742e42eabd9434ecc8089efe19a66c076)\n",
    "\n",
    "(2)train_reader and test_reader\n",
    "\n",
    "paddle.dataset.mnist.train()and test()used to get the training set and test set.\n",
    "\n",
    "paddle.reader.shuffle()used to buffer BUF_SIZE and shuffle it.\n",
    "\n",
    "paddle.batch()each BATCH_SIZE makes a batch\n",
    "\n",
    "（3）print and see how the data look like.  The data from PaddlePaddle's API has already been standarization and normalization."
   ]
  },
  {
   "cell_type": "markdown",
   "metadata": {
    "collapsed": false
   },
   "source": [
    "[神经网络训练中，傻傻分不清Epoch、Batch Size和迭代](https://www.jiqizhixin.com/articles/2017-09-25-3)"
   ]
  },
  {
   "cell_type": "code",
   "execution_count": 2,
   "metadata": {
    "collapsed": false
   },
   "outputs": [
    {
     "name": "stdout",
     "output_type": "stream",
     "text": [
      "t10k-images-idx3-ubyte.gz  train-images-idx3-ubyte.gz\r\n",
      "t10k-labels-idx1-ubyte.gz  train-labels-idx1-ubyte.gz\r\n"
     ]
    }
   ],
   "source": [
    "!mkdir -p /home/aistudio/.cache/paddle/dataset/mnist/\n",
    "!cp -r /home/aistudio/data/data65/*  /home/aistudio/.cache/paddle/dataset/mnist/\n",
    "!ls /home/aistudio/.cache/paddle/dataset/mnist/"
   ]
  },
  {
   "cell_type": "code",
   "execution_count": 3,
   "metadata": {
    "collapsed": false
   },
   "outputs": [
    {
     "name": "stderr",
     "output_type": "stream",
     "text": [
      "\n",
      "\n",
      "\n",
      "\n",
      "\n",
      "\n"
     ]
    },
    {
     "name": "stdout",
     "output_type": "stream",
     "text": [
      "(array([-1.        , -1.        , -1.        , -1.        , -1.        ,\n",
      "       -1.        , -1.        , -1.        , -1.        , -1.        ,\n",
      "       -1.        , -1.        , -1.        , -1.        , -1.        ,\n",
      "       -1.        , -1.        , -1.        , -1.        , -1.        ,\n",
      "       -1.        , -1.        , -1.        , -1.        , -1.        ,\n",
      "       -1.        , -1.        , -1.        , -1.        , -1.        ,\n",
      "       -1.        , -1.        , -1.        , -1.        , -1.        ,\n",
      "       -1.        , -1.        , -1.        , -1.        , -1.        ,\n",
      "       -1.        , -1.        , -1.        , -1.        , -1.        ,\n",
      "       -1.        , -1.        , -1.        , -1.        , -1.        ,\n",
      "       -1.        , -1.        , -1.        , -1.        , -1.        ,\n",
      "       -1.        , -1.        , -1.        , -1.        , -1.        ,\n",
      "       -1.        , -1.        , -1.        , -1.        , -1.        ,\n",
      "       -1.        , -1.        , -1.        , -1.        , -1.        ,\n",
      "       -1.        , -1.        , -1.        , -1.        , -1.        ,\n",
      "       -1.        , -1.        , -1.        , -1.        , -1.        ,\n",
      "       -1.        , -1.        , -1.        , -1.        , -1.        ,\n",
      "       -1.        , -1.        , -1.        , -1.        , -1.        ,\n",
      "       -1.        , -1.        , -1.        , -1.        , -1.        ,\n",
      "       -1.        , -1.        , -1.        , -1.        , -1.        ,\n",
      "       -1.        , -1.        , -1.        , -1.        , -1.        ,\n",
      "       -1.        , -1.        , -1.        , -1.        , -1.        ,\n",
      "       -1.        , -1.        , -1.        , -1.        , -1.        ,\n",
      "       -1.        , -1.        , -1.        , -1.        , -1.        ,\n",
      "       -1.        , -1.        , -1.        , -1.        , -1.        ,\n",
      "       -1.        , -1.        , -1.        , -1.        , -1.        ,\n",
      "       -1.        , -1.        , -1.        , -1.        , -1.        ,\n",
      "       -1.        , -1.        , -1.        , -1.        , -1.        ,\n",
      "       -1.        , -1.        , -1.        , -1.        , -1.        ,\n",
      "       -1.        , -1.        , -1.        , -1.        , -1.        ,\n",
      "       -1.        , -1.        , -0.9764706 , -0.85882354, -0.85882354,\n",
      "       -0.85882354, -0.01176471,  0.06666672,  0.37254906, -0.79607844,\n",
      "        0.30196083,  1.        ,  0.9372549 , -0.00392157, -1.        ,\n",
      "       -1.        , -1.        , -1.        , -1.        , -1.        ,\n",
      "       -1.        , -1.        , -1.        , -1.        , -1.        ,\n",
      "       -1.        , -0.7647059 , -0.7176471 , -0.26274508,  0.20784318,\n",
      "        0.33333337,  0.9843137 ,  0.9843137 ,  0.9843137 ,  0.9843137 ,\n",
      "        0.9843137 ,  0.7647059 ,  0.34901965,  0.9843137 ,  0.8980392 ,\n",
      "        0.5294118 , -0.4980392 , -1.        , -1.        , -1.        ,\n",
      "       -1.        , -1.        , -1.        , -1.        , -1.        ,\n",
      "       -1.        , -1.        , -1.        , -0.6156863 ,  0.8666667 ,\n",
      "        0.9843137 ,  0.9843137 ,  0.9843137 ,  0.9843137 ,  0.9843137 ,\n",
      "        0.9843137 ,  0.9843137 ,  0.9843137 ,  0.96862745, -0.27058822,\n",
      "       -0.35686272, -0.35686272, -0.56078434, -0.69411767, -1.        ,\n",
      "       -1.        , -1.        , -1.        , -1.        , -1.        ,\n",
      "       -1.        , -1.        , -1.        , -1.        , -1.        ,\n",
      "       -1.        , -0.85882354,  0.7176471 ,  0.9843137 ,  0.9843137 ,\n",
      "        0.9843137 ,  0.9843137 ,  0.9843137 ,  0.5529412 ,  0.427451  ,\n",
      "        0.9372549 ,  0.8901961 , -1.        , -1.        , -1.        ,\n",
      "       -1.        , -1.        , -1.        , -1.        , -1.        ,\n",
      "       -1.        , -1.        , -1.        , -1.        , -1.        ,\n",
      "       -1.        , -1.        , -1.        , -1.        , -1.        ,\n",
      "       -0.372549  ,  0.22352946, -0.1607843 ,  0.9843137 ,  0.9843137 ,\n",
      "        0.60784316, -0.9137255 , -1.        , -0.6627451 ,  0.20784318,\n",
      "       -1.        , -1.        , -1.        , -1.        , -1.        ,\n",
      "       -1.        , -1.        , -1.        , -1.        , -1.        ,\n",
      "       -1.        , -1.        , -1.        , -1.        , -1.        ,\n",
      "       -1.        , -1.        , -1.        , -1.        , -0.8901961 ,\n",
      "       -0.99215686,  0.20784318,  0.9843137 , -0.29411763, -1.        ,\n",
      "       -1.        , -1.        , -1.        , -1.        , -1.        ,\n",
      "       -1.        , -1.        , -1.        , -1.        , -1.        ,\n",
      "       -1.        , -1.        , -1.        , -1.        , -1.        ,\n",
      "       -1.        , -1.        , -1.        , -1.        , -1.        ,\n",
      "       -1.        , -1.        , -1.        , -1.        ,  0.09019613,\n",
      "        0.9843137 ,  0.4901961 , -0.9843137 , -1.        , -1.        ,\n",
      "       -1.        , -1.        , -1.        , -1.        , -1.        ,\n",
      "       -1.        , -1.        , -1.        , -1.        , -1.        ,\n",
      "       -1.        , -1.        , -1.        , -1.        , -1.        ,\n",
      "       -1.        , -1.        , -1.        , -1.        , -1.        ,\n",
      "       -1.        , -1.        , -0.9137255 ,  0.4901961 ,  0.9843137 ,\n",
      "       -0.45098037, -1.        , -1.        , -1.        , -1.        ,\n",
      "       -1.        , -1.        , -1.        , -1.        , -1.        ,\n",
      "       -1.        , -1.        , -1.        , -1.        , -1.        ,\n",
      "       -1.        , -1.        , -1.        , -1.        , -1.        ,\n",
      "       -1.        , -1.        , -1.        , -1.        , -1.        ,\n",
      "       -1.        , -0.7254902 ,  0.8901961 ,  0.7647059 ,  0.254902  ,\n",
      "       -0.15294117, -0.99215686, -1.        , -1.        , -1.        ,\n",
      "       -1.        , -1.        , -1.        , -1.        , -1.        ,\n",
      "       -1.        , -1.        , -1.        , -1.        , -1.        ,\n",
      "       -1.        , -1.        , -1.        , -1.        , -1.        ,\n",
      "       -1.        , -1.        , -1.        , -1.        , -1.        ,\n",
      "       -0.36470586,  0.88235295,  0.9843137 ,  0.9843137 , -0.06666666,\n",
      "       -0.8039216 , -1.        , -1.        , -1.        , -1.        ,\n",
      "       -1.        , -1.        , -1.        , -1.        , -1.        ,\n",
      "       -1.        , -1.        , -1.        , -1.        , -1.        ,\n",
      "       -1.        , -1.        , -1.        , -1.        , -1.        ,\n",
      "       -1.        , -1.        , -1.        , -1.        , -0.64705884,\n",
      "        0.45882356,  0.9843137 ,  0.9843137 ,  0.17647064, -0.7882353 ,\n",
      "       -1.        , -1.        , -1.        , -1.        , -1.        ,\n",
      "       -1.        , -1.        , -1.        , -1.        , -1.        ,\n",
      "       -1.        , -1.        , -1.        , -1.        , -1.        ,\n",
      "       -1.        , -1.        , -1.        , -1.        , -1.        ,\n",
      "       -1.        , -1.        , -1.        , -0.8745098 , -0.27058822,\n",
      "        0.9764706 ,  0.9843137 ,  0.4666667 , -1.        , -1.        ,\n",
      "       -1.        , -1.        , -1.        , -1.        , -1.        ,\n",
      "       -1.        , -1.        , -1.        , -1.        , -1.        ,\n",
      "       -1.        , -1.        , -1.        , -1.        , -1.        ,\n",
      "       -1.        , -1.        , -1.        , -1.        , -1.        ,\n",
      "       -1.        , -1.        , -1.        ,  0.9529412 ,  0.9843137 ,\n",
      "        0.9529412 , -0.4980392 , -1.        , -1.        , -1.        ,\n",
      "       -1.        , -1.        , -1.        , -1.        , -1.        ,\n",
      "       -1.        , -1.        , -1.        , -1.        , -1.        ,\n",
      "       -1.        , -1.        , -1.        , -1.        , -1.        ,\n",
      "       -1.        , -1.        , -1.        , -0.6392157 ,  0.0196079 ,\n",
      "        0.43529415,  0.9843137 ,  0.9843137 ,  0.62352943, -0.9843137 ,\n",
      "       -1.        , -1.        , -1.        , -1.        , -1.        ,\n",
      "       -1.        , -1.        , -1.        , -1.        , -1.        ,\n",
      "       -1.        , -1.        , -1.        , -1.        , -1.        ,\n",
      "       -1.        , -1.        , -1.        , -1.        , -0.69411767,\n",
      "        0.16078436,  0.79607844,  0.9843137 ,  0.9843137 ,  0.9843137 ,\n",
      "        0.9607843 ,  0.427451  , -1.        , -1.        , -1.        ,\n",
      "       -1.        , -1.        , -1.        , -1.        , -1.        ,\n",
      "       -1.        , -1.        , -1.        , -1.        , -1.        ,\n",
      "       -1.        , -1.        , -1.        , -1.        , -1.        ,\n",
      "       -0.8117647 , -0.10588235,  0.73333335,  0.9843137 ,  0.9843137 ,\n",
      "        0.9843137 ,  0.9843137 ,  0.5764706 , -0.38823527, -1.        ,\n",
      "       -1.        , -1.        , -1.        , -1.        , -1.        ,\n",
      "       -1.        , -1.        , -1.        , -1.        , -1.        ,\n",
      "       -1.        , -1.        , -1.        , -1.        , -1.        ,\n",
      "       -1.        , -0.81960785, -0.4823529 ,  0.67058825,  0.9843137 ,\n",
      "        0.9843137 ,  0.9843137 ,  0.9843137 ,  0.5529412 , -0.36470586,\n",
      "       -0.9843137 , -1.        , -1.        , -1.        , -1.        ,\n",
      "       -1.        , -1.        , -1.        , -1.        , -1.        ,\n",
      "       -1.        , -1.        , -1.        , -1.        , -1.        ,\n",
      "       -1.        , -1.        , -0.85882354,  0.3411765 ,  0.7176471 ,\n",
      "        0.9843137 ,  0.9843137 ,  0.9843137 ,  0.9843137 ,  0.5294118 ,\n",
      "       -0.372549  , -0.92941177, -1.        , -1.        , -1.        ,\n",
      "       -1.        , -1.        , -1.        , -1.        , -1.        ,\n",
      "       -1.        , -1.        , -1.        , -1.        , -1.        ,\n",
      "       -1.        , -1.        , -1.        , -0.5686275 ,  0.34901965,\n",
      "        0.77254903,  0.9843137 ,  0.9843137 ,  0.9843137 ,  0.9843137 ,\n",
      "        0.9137255 ,  0.04313731, -0.9137255 , -1.        , -1.        ,\n",
      "       -1.        , -1.        , -1.        , -1.        , -1.        ,\n",
      "       -1.        , -1.        , -1.        , -1.        , -1.        ,\n",
      "       -1.        , -1.        , -1.        , -1.        , -1.        ,\n",
      "       -1.        ,  0.06666672,  0.9843137 ,  0.9843137 ,  0.9843137 ,\n",
      "        0.6627451 ,  0.05882359,  0.03529418, -0.8745098 , -1.        ,\n",
      "       -1.        , -1.        , -1.        , -1.        , -1.        ,\n",
      "       -1.        , -1.        , -1.        , -1.        , -1.        ,\n",
      "       -1.        , -1.        , -1.        , -1.        , -1.        ,\n",
      "       -1.        , -1.        , -1.        , -1.        , -1.        ,\n",
      "       -1.        , -1.        , -1.        , -1.        , -1.        ,\n",
      "       -1.        , -1.        , -1.        , -1.        , -1.        ,\n",
      "       -1.        , -1.        , -1.        , -1.        , -1.        ,\n",
      "       -1.        , -1.        , -1.        , -1.        , -1.        ,\n",
      "       -1.        , -1.        , -1.        , -1.        , -1.        ,\n",
      "       -1.        , -1.        , -1.        , -1.        , -1.        ,\n",
      "       -1.        , -1.        , -1.        , -1.        , -1.        ,\n",
      "       -1.        , -1.        , -1.        , -1.        , -1.        ,\n",
      "       -1.        , -1.        , -1.        , -1.        , -1.        ,\n",
      "       -1.        , -1.        , -1.        , -1.        , -1.        ,\n",
      "       -1.        , -1.        , -1.        , -1.        , -1.        ,\n",
      "       -1.        , -1.        , -1.        , -1.        , -1.        ,\n",
      "       -1.        , -1.        , -1.        , -1.        , -1.        ,\n",
      "       -1.        , -1.        , -1.        , -1.        , -1.        ,\n",
      "       -1.        , -1.        , -1.        , -1.        , -1.        ,\n",
      "       -1.        , -1.        , -1.        , -1.        ], dtype=float32), 5)\n"
     ]
    }
   ],
   "source": [
    "BUF_SIZE=512\r\n",
    "BATCH_SIZE=128\r\n",
    "# data provider, used to get data randomly from the buffer（缓存）. \r\n",
    "\r\n",
    "train_reader = paddle.batch(\r\n",
    "    paddle.reader.shuffle(paddle.dataset.mnist.train(),\r\n",
    "                          buf_size=BUF_SIZE),\r\n",
    "    batch_size=BATCH_SIZE)\r\n",
    "\r\n",
    "test_reader = paddle.batch(\r\n",
    "    paddle.reader.shuffle(paddle.dataset.mnist.test(),\r\n",
    "                          buf_size=BUF_SIZE),\r\n",
    "    batch_size=BATCH_SIZE)\r\n",
    "#用于打印，查看mnist数据\r\n",
    "train_data=paddle.dataset.mnist.train();\r\n",
    "sampledata=next(train_data())\r\n",
    "print(sampledata)\r\n"
   ]
  },
  {
   "cell_type": "markdown",
   "metadata": {
    "collapsed": false
   },
   "source": [
    "# **Step2. Setup Newtork**\n",
    "\n",
    "This is a three layer multiple layer perceptron; two hidden layer which the sizes are 100, and the size of the output layer is about 10, since the label we have on hand is from 0-9. The activation function is Softmas, thus the output layer is also considered as a classifier. \n",
    "Therefore the structure of the network is: input layer ->> hidden layer ->> hidden layer ->> output layer.    \n",
    "[CNN 入门讲解：什么是全连接层（Fully Connected Layer）?](https://zhuanlan.zhihu.com/p/33841176)  \n",
    "![](https://ai-studio-static-online.cdn.bcebos.com/cb69f928778c4299b75814179607a89eea770bdc409d4e08a87e2975cb96b19b)"
   ]
  },
  {
   "cell_type": "code",
   "execution_count": 4,
   "metadata": {
    "collapsed": false
   },
   "outputs": [],
   "source": [
    " \r\n",
    "def multilayer_perceptron(input): \r\n",
    "    # The first fully connected layer, with the activation function ReLU \r\n",
    "    hidden1 = fluid.layers.fc(input=input, size=100, act='relu') \r\n",
    "    # The second fully connected layer, with the activation function ReLU \r\n",
    "    hidden2 = fluid.layers.fc(input=hidden1, size=100, act='relu') \r\n",
    "    # fully connected layer with Softmax as the activation function, the output must be 10  \r\n",
    "    prediction = fluid.layers.fc(input=hidden2, size=10, act='softmax') \r\n",
    "    return prediction "
   ]
  },
  {
   "cell_type": "markdown",
   "metadata": {
    "collapsed": false
   },
   "source": [
    "（2）Define the data layer  \n",
    "\n",
    "The input data type is gray images; the size of the image is 28 * 28, so the input shape is [1,28,28]. if the input type is 32 * 32 colored image, the the input shape is [3,32,32]. Because the RGB of gray image only has one tunnel, but the color image has three tunnel."
   ]
  },
  {
   "cell_type": "code",
   "execution_count": 5,
   "metadata": {
    "collapsed": false
   },
   "outputs": [],
   "source": [
    "# input 1*28*28\r\n",
    "image = fluid.layers.data(name='image', shape=[1, 28, 28], dtype='float32')  \r\n",
    "label = fluid.layers.data(name='label', shape=[1], dtype='int64')          #label of images "
   ]
  },
  {
   "cell_type": "markdown",
   "metadata": {
    "collapsed": false
   },
   "source": [
    "（3）classifer"
   ]
  },
  {
   "cell_type": "code",
   "execution_count": 6,
   "metadata": {
    "collapsed": false
   },
   "outputs": [],
   "source": [
    "predict = multilayer_perceptron(image)"
   ]
  },
  {
   "cell_type": "markdown",
   "metadata": {
    "collapsed": false
   },
   "source": [
    "（4）Define the loss function and accuracy  \n",
    "\n",
    "Cross Entropy Error Function is very common in classification tasks.\n",
    "\n",
    "When a lost function is defined , we need to get the average cost as well. The training function must return a average cost as its first return value； since it is needed in the Backpropagation(反向传播算法) in the later code.\n",
    "\n",
    "At the same time we could define a accuracy function, to provide the accuracy in the training process. "
   ]
  },
  {
   "cell_type": "code",
   "execution_count": 17,
   "metadata": {
    "collapsed": false
   },
   "outputs": [],
   "source": [
    "# use Cross Entropy Error Function to describe the difference of label and the prediction. \r\n",
    "cost = fluid.layers.cross_entropy(input=predict, label=label)  \r\n",
    "avg_cost = fluid.layers.mean(cost)\r\n",
    "# calculate the classifier accuracy\r\n",
    "acc = fluid.layers.accuracy(input=predict, label=label)"
   ]
  },
  {
   "cell_type": "markdown",
   "metadata": {
    "collapsed": false
   },
   "source": [
    "（5）define a optimizer function\n",
    "\n",
    "In this case I used Adam mothod to do the optimization, and assign the learning rate is 0.01."
   ]
  },
  {
   "cell_type": "code",
   "execution_count": 16,
   "metadata": {
    "collapsed": false
   },
   "outputs": [],
   "source": [
    "test_program = fluid.default_main_program().clone(for_test=True)\r\n",
    "#Use AdamOptimizer\r\n",
    "optimizer = fluid.optimizer.AdamOptimizer(learning_rate=0.001)  \r\n",
    "opts = optimizer.minimize(avg_cost)"
   ]
  },
  {
   "cell_type": "markdown",
   "metadata": {
    "collapsed": false
   },
   "source": [
    "After the above config we have the following two fluid.Programs：fluid.default_startup_program() and fluid.default_main_program().\n",
    "\n",
    "After the initialization all params would be read by fluid.default_startup_program()\n",
    "\n",
    "fluid.default_main_program()used to get the default or global main program. This main program used to train and test our model.  \n",
    "All the layers function in fluid.layers could add operator and variables to default_main_program. default_main_program is the API of the fluid. When program is not loaded, Executor.run() would run the default_main_program by default."
   ]
  },
  {
   "cell_type": "markdown",
   "metadata": {
    "collapsed": false
   },
   "source": [
    "# **Step3. model training  and Step4. model evaluation **\n",
    "（1）create the train Executor\n",
    "\n",
    "First define the operation place, fluid.CPUPlace()and fluid.CUDAPlace(0) represent the CPU and GPU correspondingly.\n",
    "\n",
    "Executor: use run() to execute the program。"
   ]
  },
  {
   "cell_type": "code",
   "execution_count": 15,
   "metadata": {
    "collapsed": false
   },
   "outputs": [
    {
     "data": {
      "text/plain": [
       "[]"
      ]
     },
     "execution_count": 15,
     "metadata": {},
     "output_type": "execute_result"
    }
   ],
   "source": [
    "# Define weather using CPU or GPU; when using CPU,use_cuda = False,when using GPU use_cuda = True\r\n",
    "use_cuda = False\r\n",
    "place = fluid.CUDAPlace(0) if use_cuda else fluid.CPUPlace()\r\n",
    "\r\n",
    "exe = fluid.Executor(place)\r\n",
    "exe.run(fluid.default_startup_program())"
   ]
  },
  {
   "cell_type": "markdown",
   "metadata": {
    "collapsed": false
   },
   "source": [
    "（2） two kinds of data, image value and label\n",
    "\n",
    "DaraFeeder transfer the data from data reader to a special data structure, and feed them to the Executer."
   ]
  },
  {
   "cell_type": "code",
   "execution_count": 12,
   "metadata": {
    "collapsed": false
   },
   "outputs": [],
   "source": [
    "feeder = fluid.DataFeeder(place=place, feed_list=[image, label])"
   ]
  },
  {
   "cell_type": "markdown",
   "metadata": {
    "collapsed": false
   },
   "source": [
    "(3)show the model curve"
   ]
  },
  {
   "cell_type": "code",
   "execution_count": 14,
   "metadata": {
    "collapsed": false
   },
   "outputs": [],
   "source": [
    "all_train_iter=0\r\n",
    "all_train_iters=[]\r\n",
    "all_train_costs=[]\r\n",
    "all_train_accs=[]\r\n",
    "\r\n",
    "def draw_train_process(title,iters,costs,accs,label_cost,lable_acc):\r\n",
    "    plt.title(title, fontsize=24)\r\n",
    "    plt.xlabel(\"iter\", fontsize=20)\r\n",
    "    plt.ylabel(\"cost/acc\", fontsize=20)\r\n",
    "    plt.plot(iters, costs,color='red',label=label_cost) \r\n",
    "    plt.plot(iters, accs,color='green',label=lable_acc) \r\n",
    "    plt.legend()\r\n",
    "    plt.grid()\r\n",
    "    plt.show()"
   ]
  },
  {
   "cell_type": "markdown",
   "metadata": {
    "collapsed": false
   },
   "source": [
    "（4）train and save model  \n",
    "\n",
    "training processing needs a training program and some necessary params, and build a function that receives the testing error.  \n",
    "The necessary params including executor,program,reader,feeder,fetch_list.\n",
    "\n",
    "**executor** \n",
    "\n",
    "**program** program which executer executes，if this params doesn't pass in, then use defalut_main_program() by default.\n",
    "\n",
    "**reader** the data that read in \n",
    "\n",
    "**feeder** represents the variables that was inputed \n",
    "\n",
    "**fetch_list** represents the variabls that users want "
   ]
  },
  {
   "cell_type": "code",
   "execution_count": 18,
   "metadata": {
    "collapsed": false
   },
   "outputs": [
    {
     "ename": "EnforceNotMet",
     "evalue": "Invoke operator adam error.\nPython Callstacks: \n  File \"/opt/conda/envs/python35-paddle120-env/lib/python3.5/site-packages/paddle/fluid/framework.py\", line 1748, in append_op\n    attrs=kwargs.get(\"attrs\", None))\n  File \"/opt/conda/envs/python35-paddle120-env/lib/python3.5/site-packages/paddle/fluid/optimizer.py\", line 1381, in _append_optimize_op\n    stop_gradient=True)\n  File \"/opt/conda/envs/python35-paddle120-env/lib/python3.5/site-packages/paddle/fluid/optimizer.py\", line 386, in _create_optimization_pass\n    param_and_grad)\n  File \"/opt/conda/envs/python35-paddle120-env/lib/python3.5/site-packages/paddle/fluid/optimizer.py\", line 531, in apply_gradients\n    optimize_ops = self._create_optimization_pass(params_grads)\n  File \"/opt/conda/envs/python35-paddle120-env/lib/python3.5/site-packages/paddle/fluid/optimizer.py\", line 561, in apply_optimize\n    optimize_ops = self.apply_gradients(params_grads)\n  File \"/opt/conda/envs/python35-paddle120-env/lib/python3.5/site-packages/paddle/fluid/optimizer.py\", line 600, in minimize\n    loss, startup_program=startup_program, params_grads=params_grads)\n  File \"/opt/conda/envs/python35-paddle120-env/lib/python3.5/site-packages/paddle/fluid/dygraph/base.py\", line 88, in __impl__\n    return func(*args, **kwargs)\n  File \"/opt/conda/envs/python35-paddle120-env/lib/python3.5/site-packages/paddle/fluid/wrapped_decorator.py\", line 25, in __impl__\n    return wrapped_func(*args, **kwargs)\n  File \"<decorator-gen-144>\", line 2, in minimize\n  File \"<ipython-input-16-71241d9b3f98>\", line 4, in <module>\n    opts = optimizer.minimize(avg_cost)\n  File \"/opt/conda/envs/python35-paddle120-env/lib/python3.5/site-packages/IPython/core/interactiveshell.py\", line 3265, in run_code\n    exec(code_obj, self.user_global_ns, self.user_ns)\n  File \"/opt/conda/envs/python35-paddle120-env/lib/python3.5/site-packages/IPython/core/interactiveshell.py\", line 3183, in run_ast_nodes\n    if (yield from self.run_code(code, result)):\n  File \"/opt/conda/envs/python35-paddle120-env/lib/python3.5/site-packages/IPython/core/interactiveshell.py\", line 3018, in run_cell_async\n    interactivity=interactivity, compiler=compiler, result=result)\n  File \"/opt/conda/envs/python35-paddle120-env/lib/python3.5/site-packages/IPython/core/async_helpers.py\", line 67, in _pseudo_sync_runner\n    coro.send(None)\n  File \"/opt/conda/envs/python35-paddle120-env/lib/python3.5/site-packages/IPython/core/interactiveshell.py\", line 2843, in _run_cell\n    return runner(coro)\n  File \"/opt/conda/envs/python35-paddle120-env/lib/python3.5/site-packages/IPython/core/interactiveshell.py\", line 2817, in run_cell\n    raw_cell, store_history, silent, shell_futures)\n  File \"/opt/conda/envs/python35-paddle120-env/lib/python3.5/site-packages/ipykernel/zmqshell.py\", line 536, in run_cell\n    return super(ZMQInteractiveShell, self).run_cell(*args, **kwargs)\n  File \"/opt/conda/envs/python35-paddle120-env/lib/python3.5/site-packages/ipykernel/ipkernel.py\", line 294, in do_execute\n    res = shell.run_cell(code, store_history=store_history, silent=silent)\n  File \"/opt/conda/envs/python35-paddle120-env/lib/python3.5/site-packages/tornado/gen.py\", line 326, in wrapper\n    yielded = next(result)\n  File \"/opt/conda/envs/python35-paddle120-env/lib/python3.5/site-packages/ipykernel/kernelbase.py\", line 534, in execute_request\n    user_expressions, allow_stdin,\n  File \"/opt/conda/envs/python35-paddle120-env/lib/python3.5/site-packages/tornado/gen.py\", line 326, in wrapper\n    yielded = next(result)\n  File \"/opt/conda/envs/python35-paddle120-env/lib/python3.5/site-packages/ipykernel/kernelbase.py\", line 267, in dispatch_shell\n    yield gen.maybe_future(handler(stream, idents, msg))\n  File \"/opt/conda/envs/python35-paddle120-env/lib/python3.5/site-packages/tornado/gen.py\", line 326, in wrapper\n    yielded = next(result)\n  File \"/opt/conda/envs/python35-paddle120-env/lib/python3.5/site-packages/ipykernel/kernelbase.py\", line 357, in process_one\n    yield gen.maybe_future(dispatch(*args))\n  File \"/opt/conda/envs/python35-paddle120-env/lib/python3.5/site-packages/tornado/gen.py\", line 1147, in run\n    yielded = self.gen.send(value)\n  File \"/opt/conda/envs/python35-paddle120-env/lib/python3.5/site-packages/tornado/gen.py\", line 1233, in inner\n    self.run()\n  File \"/opt/conda/envs/python35-paddle120-env/lib/python3.5/site-packages/tornado/stack_context.py\", line 300, in null_wrapper\n    return fn(*args, **kwargs)\n  File \"/opt/conda/envs/python35-paddle120-env/lib/python3.5/site-packages/tornado/ioloop.py\", line 758, in _run_callback\n    ret = callback()\n  File \"/opt/conda/envs/python35-paddle120-env/lib/python3.5/asyncio/events.py\", line 127, in _run\n    self._callback(*self._args)\n  File \"/opt/conda/envs/python35-paddle120-env/lib/python3.5/asyncio/base_events.py\", line 1425, in _run_once\n    handle._run()\n  File \"/opt/conda/envs/python35-paddle120-env/lib/python3.5/asyncio/base_events.py\", line 421, in run_forever\n    self._run_once()\n  File \"/opt/conda/envs/python35-paddle120-env/lib/python3.5/site-packages/tornado/platform/asyncio.py\", line 132, in start\n    self.asyncio_loop.run_forever()\n  File \"/opt/conda/envs/python35-paddle120-env/lib/python3.5/site-packages/ipykernel/kernelapp.py\", line 505, in start\n    self.io_loop.start()\n  File \"/opt/conda/envs/python35-paddle120-env/lib/python3.5/site-packages/traitlets/config/application.py\", line 658, in launch_instance\n    app.start()\n  File \"/opt/conda/envs/python35-paddle120-env/lib/python3.5/site-packages/ipykernel_launcher.py\", line 16, in <module>\n    app.launch_new_instance()\n  File \"/opt/conda/envs/python35-paddle120-env/lib/python3.5/runpy.py\", line 85, in _run_code\n    exec(code, run_globals)\n  File \"/opt/conda/envs/python35-paddle120-env/lib/python3.5/runpy.py\", line 193, in _run_module_as_main\n    \"__main__\", mod_spec)\nC++ Callstacks: \nEnforce failed. Expected framework::product(lr_dims) == 1, but received framework::product(lr_dims):0 != 1:1.\nLearning rate should have 1 dimension at [/paddle/paddle/fluid/operators/optimizers/adam_op.cc:47]\nPaddlePaddle Call Stacks: \n0       0x7f536bbc5b28p void paddle::platform::EnforceNotMet::Init<std::string>(std::string, char const*, int) + 360\n1       0x7f536bbc5e77p paddle::platform::EnforceNotMet::EnforceNotMet(std::string const&, char const*, int) + 87\n2       0x7f536c68b95cp paddle::operators::AdamOp::InferShape(paddle::framework::InferShapeContext*) const + 4220\n3       0x7f536cf07d20p paddle::framework::OperatorWithKernel::RunImpl(paddle::framework::Scope const&, boost::variant<paddle::platform::CUDAPlace, paddle::platform::CPUPlace, paddle::platform::CUDAPinnedPlace, boost::detail::variant::void_, boost::detail::variant::void_, boost::detail::variant::void_, boost::detail::variant::void_, boost::detail::variant::void_, boost::detail::variant::void_, boost::detail::variant::void_, boost::detail::variant::void_, boost::detail::variant::void_, boost::detail::variant::void_, boost::detail::variant::void_, boost::detail::variant::void_, boost::detail::variant::void_, boost::detail::variant::void_, boost::detail::variant::void_, boost::detail::variant::void_, boost::detail::variant::void_> const&, paddle::framework::RuntimeContext*) const + 304\n4       0x7f536cf084d1p paddle::framework::OperatorWithKernel::RunImpl(paddle::framework::Scope const&, boost::variant<paddle::platform::CUDAPlace, paddle::platform::CPUPlace, paddle::platform::CUDAPinnedPlace, boost::detail::variant::void_, boost::detail::variant::void_, boost::detail::variant::void_, boost::detail::variant::void_, boost::detail::variant::void_, boost::detail::variant::void_, boost::detail::variant::void_, boost::detail::variant::void_, boost::detail::variant::void_, boost::detail::variant::void_, boost::detail::variant::void_, boost::detail::variant::void_, boost::detail::variant::void_, boost::detail::variant::void_, boost::detail::variant::void_, boost::detail::variant::void_, boost::detail::variant::void_> const&) const + 529\n5       0x7f536cf0637bp paddle::framework::OperatorBase::Run(paddle::framework::Scope const&, boost::variant<paddle::platform::CUDAPlace, paddle::platform::CPUPlace, paddle::platform::CUDAPinnedPlace, boost::detail::variant::void_, boost::detail::variant::void_, boost::detail::variant::void_, boost::detail::variant::void_, boost::detail::variant::void_, boost::detail::variant::void_, boost::detail::variant::void_, boost::detail::variant::void_, boost::detail::variant::void_, boost::detail::variant::void_, boost::detail::variant::void_, boost::detail::variant::void_, boost::detail::variant::void_, boost::detail::variant::void_, boost::detail::variant::void_, boost::detail::variant::void_, boost::detail::variant::void_> const&) + 267\n6       0x7f536bd4442ep paddle::framework::Executor::RunPreparedContext(paddle::framework::ExecutorPrepareContext*, paddle::framework::Scope*, bool, bool, bool) + 206\n7       0x7f536bd474afp paddle::framework::Executor::Run(paddle::framework::ProgramDesc const&, paddle::framework::Scope*, int, bool, bool, std::vector<std::string, std::allocator<std::string> > const&, bool) + 143\n8       0x7f536bbb7e5dp\n9       0x7f536bbf4956p\n10      0x7f53af487199p PyCFunction_Call + 233\n11      0x7f53af5223f9p PyEval_EvalFrameEx + 33545\n12      0x7f53af5244b6p\n13      0x7f53af5215b5p PyEval_EvalFrameEx + 29893\n14      0x7f53af5244b6p\n15      0x7f53af5215b5p PyEval_EvalFrameEx + 29893\n16      0x7f53af5244b6p\n17      0x7f53af5245a8p PyEval_EvalCodeEx + 72\n18      0x7f53af5245ebp PyEval_EvalCode + 59\n19      0x7f53af517c5dp\n20      0x7f53af487179p PyCFunction_Call + 201\n21      0x7f53af521dbep PyEval_EvalFrameEx + 31950\n22      0x7f53af45b410p _PyGen_Send + 128\n23      0x7f53af520953p PyEval_EvalFrameEx + 26723\n24      0x7f53af45b410p _PyGen_Send + 128\n25      0x7f53af520953p PyEval_EvalFrameEx + 26723\n26      0x7f53af45b410p _PyGen_Send + 128\n27      0x7f53af521d60p PyEval_EvalFrameEx + 31856\n28      0x7f53af5221d0p PyEval_EvalFrameEx + 32992\n29      0x7f53af5221d0p PyEval_EvalFrameEx + 32992\n30      0x7f53af5244b6p\n31      0x7f53af5245a8p PyEval_EvalCodeEx + 72\n32      0x7f53af463c33p\n33      0x7f53af43233ap PyObject_Call + 106\n34      0x7f53af51c6eep PyEval_EvalFrameEx + 9726\n35      0x7f53af5244b6p\n36      0x7f53af5215b5p PyEval_EvalFrameEx + 29893\n37      0x7f53af45a6bap\n38      0x7f53af515af6p\n39      0x7f53af487179p PyCFunction_Call + 201\n40      0x7f53af521dbep PyEval_EvalFrameEx + 31950\n41      0x7f53af5244b6p\n42      0x7f53af5215b5p PyEval_EvalFrameEx + 29893\n43      0x7f53af45a6bap\n44      0x7f53af515af6p\n45      0x7f53af487179p PyCFunction_Call + 201\n46      0x7f53af521dbep PyEval_EvalFrameEx + 31950\n47      0x7f53af5244b6p\n48      0x7f53af5215b5p PyEval_EvalFrameEx + 29893\n49      0x7f53af45a6bap\n50      0x7f53af515af6p\n51      0x7f53af487179p PyCFunction_Call + 201\n52      0x7f53af521dbep PyEval_EvalFrameEx + 31950\n53      0x7f53af5244b6p\n54      0x7f53af5245a8p PyEval_EvalCodeEx + 72\n55      0x7f53af463b56p\n56      0x7f53af43233ap PyObject_Call + 106\n57      0x7f53af51c6eep PyEval_EvalFrameEx + 9726\n58      0x7f53af45b410p _PyGen_Send + 128\n59      0x7f53af521d60p PyEval_EvalFrameEx + 31856\n60      0x7f53af5221d0p PyEval_EvalFrameEx + 32992\n61      0x7f53af5244b6p\n62      0x7f53af5245a8p PyEval_EvalCodeEx + 72\n63      0x7f53af463c33p\n64      0x7f53af43233ap PyObject_Call + 106\n65      0x7f53af51c6eep PyEval_EvalFrameEx + 9726\n66      0x7f53af5244b6p\n67      0x7f53af5245a8p PyEval_EvalCodeEx + 72\n68      0x7f53af463b56p\n69      0x7f53af43233ap PyObject_Call + 106\n70      0x7f53af597ccap\n71      0x7f53af43233ap PyObject_Call + 106\n72      0x7f53af51e4c5p PyEval_EvalFrameEx + 17365\n73      0x7f53af5244b6p\n74      0x7f53af5245a8p PyEval_EvalCodeEx + 72\n75      0x7f53af463b56p\n76      0x7f53af43233ap PyObject_Call + 106\n77      0x7f53af51c6eep PyEval_EvalFrameEx + 9726\n78      0x7f53af5221d0p PyEval_EvalFrameEx + 32992\n79      0x7f53af5221d0p PyEval_EvalFrameEx + 32992\n80      0x7f53af5221d0p PyEval_EvalFrameEx + 32992\n81      0x7f53af5221d0p PyEval_EvalFrameEx + 32992\n82      0x7f53af5221d0p PyEval_EvalFrameEx + 32992\n83      0x7f53af5244b6p\n84      0x7f53af5215b5p PyEval_EvalFrameEx + 29893\n85      0x7f53af5244b6p\n86      0x7f53af5245a8p PyEval_EvalCodeEx + 72\n87      0x7f53af5245ebp PyEval_EvalCode + 59\n88      0x7f53af517c5dp\n89      0x7f53af487179p PyCFunction_Call + 201\n90      0x7f53af521dbep PyEval_EvalFrameEx + 31950\n91      0x7f53af5244b6p\n92      0x7f53af5215b5p PyEval_EvalFrameEx + 29893\n93      0x7f53af5244b6p\n94      0x7f53af5245a8p PyEval_EvalCodeEx + 72\n95      0x7f53af463b56p\n96      0x7f53af43233ap PyObject_Call + 106\n97      0x7f53af570ba1p\n98      0x7f53af5714a5p Py_Main + 1493\n99            0x400b54p main + 356\n",
     "output_type": "error",
     "traceback": [
      "\u001b[0;31m---------------------------------------------------------------------------\u001b[0m",
      "\u001b[0;31mEnforceNotMet\u001b[0m                             Traceback (most recent call last)",
      "\u001b[0;32m<ipython-input-18-b3d2084200de>\u001b[0m in \u001b[0;36m<module>\u001b[0;34m\u001b[0m\n\u001b[1;32m      6\u001b[0m         train_cost, train_acc = exe.run(program=fluid.default_main_program(),#run main program \n\u001b[1;32m      7\u001b[0m                                         \u001b[0mfeed\u001b[0m\u001b[0;34m=\u001b[0m\u001b[0mfeeder\u001b[0m\u001b[0;34m.\u001b[0m\u001b[0mfeed\u001b[0m\u001b[0;34m(\u001b[0m\u001b[0mdata\u001b[0m\u001b[0;34m)\u001b[0m\u001b[0;34m,\u001b[0m              \u001b[0;31m#feed the data into\u001b[0m\u001b[0;34m\u001b[0m\u001b[0m\n\u001b[0;32m----> 8\u001b[0;31m                                         fetch_list=[avg_cost, acc])          #fetch error and accuracy  \n\u001b[0m\u001b[1;32m      9\u001b[0m \u001b[0;34m\u001b[0m\u001b[0m\n\u001b[1;32m     10\u001b[0m         \u001b[0mall_train_iter\u001b[0m\u001b[0;34m=\u001b[0m\u001b[0mall_train_iter\u001b[0m\u001b[0;34m+\u001b[0m\u001b[0mBATCH_SIZE\u001b[0m\u001b[0;34m\u001b[0m\u001b[0m\n",
      "\u001b[0;32m/opt/conda/envs/python35-paddle120-env/lib/python3.5/site-packages/paddle/fluid/executor.py\u001b[0m in \u001b[0;36mrun\u001b[0;34m(self, program, feed, fetch_list, feed_var_name, fetch_var_name, scope, return_numpy, use_program_cache)\u001b[0m\n\u001b[1;32m    648\u001b[0m                 \u001b[0mscope\u001b[0m\u001b[0;34m=\u001b[0m\u001b[0mscope\u001b[0m\u001b[0;34m,\u001b[0m\u001b[0;34m\u001b[0m\u001b[0m\n\u001b[1;32m    649\u001b[0m                 \u001b[0mreturn_numpy\u001b[0m\u001b[0;34m=\u001b[0m\u001b[0mreturn_numpy\u001b[0m\u001b[0;34m,\u001b[0m\u001b[0;34m\u001b[0m\u001b[0m\n\u001b[0;32m--> 650\u001b[0;31m                 use_program_cache=use_program_cache)\n\u001b[0m\u001b[1;32m    651\u001b[0m         \u001b[0;32melse\u001b[0m\u001b[0;34m:\u001b[0m\u001b[0;34m\u001b[0m\u001b[0m\n\u001b[1;32m    652\u001b[0m             if fetch_list and program._is_data_parallel and program._program and (\n",
      "\u001b[0;32m/opt/conda/envs/python35-paddle120-env/lib/python3.5/site-packages/paddle/fluid/executor.py\u001b[0m in \u001b[0;36m_run\u001b[0;34m(self, program, exe, feed, fetch_list, feed_var_name, fetch_var_name, scope, return_numpy, use_program_cache)\u001b[0m\n\u001b[1;32m    746\u001b[0m         \u001b[0mself\u001b[0m\u001b[0;34m.\u001b[0m\u001b[0m_feed_data\u001b[0m\u001b[0;34m(\u001b[0m\u001b[0mprogram\u001b[0m\u001b[0;34m,\u001b[0m \u001b[0mfeed\u001b[0m\u001b[0;34m,\u001b[0m \u001b[0mfeed_var_name\u001b[0m\u001b[0;34m,\u001b[0m \u001b[0mscope\u001b[0m\u001b[0;34m)\u001b[0m\u001b[0;34m\u001b[0m\u001b[0m\n\u001b[1;32m    747\u001b[0m         \u001b[0;32mif\u001b[0m \u001b[0;32mnot\u001b[0m \u001b[0muse_program_cache\u001b[0m\u001b[0;34m:\u001b[0m\u001b[0;34m\u001b[0m\u001b[0m\n\u001b[0;32m--> 748\u001b[0;31m             \u001b[0mexe\u001b[0m\u001b[0;34m.\u001b[0m\u001b[0mrun\u001b[0m\u001b[0;34m(\u001b[0m\u001b[0mprogram\u001b[0m\u001b[0;34m.\u001b[0m\u001b[0mdesc\u001b[0m\u001b[0;34m,\u001b[0m \u001b[0mscope\u001b[0m\u001b[0;34m,\u001b[0m \u001b[0;36m0\u001b[0m\u001b[0;34m,\u001b[0m \u001b[0;32mTrue\u001b[0m\u001b[0;34m,\u001b[0m \u001b[0;32mTrue\u001b[0m\u001b[0;34m,\u001b[0m \u001b[0mfetch_var_name\u001b[0m\u001b[0;34m)\u001b[0m\u001b[0;34m\u001b[0m\u001b[0m\n\u001b[0m\u001b[1;32m    749\u001b[0m         \u001b[0;32melse\u001b[0m\u001b[0;34m:\u001b[0m\u001b[0;34m\u001b[0m\u001b[0m\n\u001b[1;32m    750\u001b[0m             \u001b[0mexe\u001b[0m\u001b[0;34m.\u001b[0m\u001b[0mrun_cached_prepared_ctx\u001b[0m\u001b[0;34m(\u001b[0m\u001b[0mctx\u001b[0m\u001b[0;34m,\u001b[0m \u001b[0mscope\u001b[0m\u001b[0;34m,\u001b[0m \u001b[0;32mFalse\u001b[0m\u001b[0;34m,\u001b[0m \u001b[0;32mFalse\u001b[0m\u001b[0;34m,\u001b[0m \u001b[0;32mFalse\u001b[0m\u001b[0;34m)\u001b[0m\u001b[0;34m\u001b[0m\u001b[0m\n",
      "\u001b[0;31mEnforceNotMet\u001b[0m: Invoke operator adam error.\nPython Callstacks: \n  File \"/opt/conda/envs/python35-paddle120-env/lib/python3.5/site-packages/paddle/fluid/framework.py\", line 1748, in append_op\n    attrs=kwargs.get(\"attrs\", None))\n  File \"/opt/conda/envs/python35-paddle120-env/lib/python3.5/site-packages/paddle/fluid/optimizer.py\", line 1381, in _append_optimize_op\n    stop_gradient=True)\n  File \"/opt/conda/envs/python35-paddle120-env/lib/python3.5/site-packages/paddle/fluid/optimizer.py\", line 386, in _create_optimization_pass\n    param_and_grad)\n  File \"/opt/conda/envs/python35-paddle120-env/lib/python3.5/site-packages/paddle/fluid/optimizer.py\", line 531, in apply_gradients\n    optimize_ops = self._create_optimization_pass(params_grads)\n  File \"/opt/conda/envs/python35-paddle120-env/lib/python3.5/site-packages/paddle/fluid/optimizer.py\", line 561, in apply_optimize\n    optimize_ops = self.apply_gradients(params_grads)\n  File \"/opt/conda/envs/python35-paddle120-env/lib/python3.5/site-packages/paddle/fluid/optimizer.py\", line 600, in minimize\n    loss, startup_program=startup_program, params_grads=params_grads)\n  File \"/opt/conda/envs/python35-paddle120-env/lib/python3.5/site-packages/paddle/fluid/dygraph/base.py\", line 88, in __impl__\n    return func(*args, **kwargs)\n  File \"/opt/conda/envs/python35-paddle120-env/lib/python3.5/site-packages/paddle/fluid/wrapped_decorator.py\", line 25, in __impl__\n    return wrapped_func(*args, **kwargs)\n  File \"<decorator-gen-144>\", line 2, in minimize\n  File \"<ipython-input-16-71241d9b3f98>\", line 4, in <module>\n    opts = optimizer.minimize(avg_cost)\n  File \"/opt/conda/envs/python35-paddle120-env/lib/python3.5/site-packages/IPython/core/interactiveshell.py\", line 3265, in run_code\n    exec(code_obj, self.user_global_ns, self.user_ns)\n  File \"/opt/conda/envs/python35-paddle120-env/lib/python3.5/site-packages/IPython/core/interactiveshell.py\", line 3183, in run_ast_nodes\n    if (yield from self.run_code(code, result)):\n  File \"/opt/conda/envs/python35-paddle120-env/lib/python3.5/site-packages/IPython/core/interactiveshell.py\", line 3018, in run_cell_async\n    interactivity=interactivity, compiler=compiler, result=result)\n  File \"/opt/conda/envs/python35-paddle120-env/lib/python3.5/site-packages/IPython/core/async_helpers.py\", line 67, in _pseudo_sync_runner\n    coro.send(None)\n  File \"/opt/conda/envs/python35-paddle120-env/lib/python3.5/site-packages/IPython/core/interactiveshell.py\", line 2843, in _run_cell\n    return runner(coro)\n  File \"/opt/conda/envs/python35-paddle120-env/lib/python3.5/site-packages/IPython/core/interactiveshell.py\", line 2817, in run_cell\n    raw_cell, store_history, silent, shell_futures)\n  File \"/opt/conda/envs/python35-paddle120-env/lib/python3.5/site-packages/ipykernel/zmqshell.py\", line 536, in run_cell\n    return super(ZMQInteractiveShell, self).run_cell(*args, **kwargs)\n  File \"/opt/conda/envs/python35-paddle120-env/lib/python3.5/site-packages/ipykernel/ipkernel.py\", line 294, in do_execute\n    res = shell.run_cell(code, store_history=store_history, silent=silent)\n  File \"/opt/conda/envs/python35-paddle120-env/lib/python3.5/site-packages/tornado/gen.py\", line 326, in wrapper\n    yielded = next(result)\n  File \"/opt/conda/envs/python35-paddle120-env/lib/python3.5/site-packages/ipykernel/kernelbase.py\", line 534, in execute_request\n    user_expressions, allow_stdin,\n  File \"/opt/conda/envs/python35-paddle120-env/lib/python3.5/site-packages/tornado/gen.py\", line 326, in wrapper\n    yielded = next(result)\n  File \"/opt/conda/envs/python35-paddle120-env/lib/python3.5/site-packages/ipykernel/kernelbase.py\", line 267, in dispatch_shell\n    yield gen.maybe_future(handler(stream, idents, msg))\n  File \"/opt/conda/envs/python35-paddle120-env/lib/python3.5/site-packages/tornado/gen.py\", line 326, in wrapper\n    yielded = next(result)\n  File \"/opt/conda/envs/python35-paddle120-env/lib/python3.5/site-packages/ipykernel/kernelbase.py\", line 357, in process_one\n    yield gen.maybe_future(dispatch(*args))\n  File \"/opt/conda/envs/python35-paddle120-env/lib/python3.5/site-packages/tornado/gen.py\", line 1147, in run\n    yielded = self.gen.send(value)\n  File \"/opt/conda/envs/python35-paddle120-env/lib/python3.5/site-packages/tornado/gen.py\", line 1233, in inner\n    self.run()\n  File \"/opt/conda/envs/python35-paddle120-env/lib/python3.5/site-packages/tornado/stack_context.py\", line 300, in null_wrapper\n    return fn(*args, **kwargs)\n  File \"/opt/conda/envs/python35-paddle120-env/lib/python3.5/site-packages/tornado/ioloop.py\", line 758, in _run_callback\n    ret = callback()\n  File \"/opt/conda/envs/python35-paddle120-env/lib/python3.5/asyncio/events.py\", line 127, in _run\n    self._callback(*self._args)\n  File \"/opt/conda/envs/python35-paddle120-env/lib/python3.5/asyncio/base_events.py\", line 1425, in _run_once\n    handle._run()\n  File \"/opt/conda/envs/python35-paddle120-env/lib/python3.5/asyncio/base_events.py\", line 421, in run_forever\n    self._run_once()\n  File \"/opt/conda/envs/python35-paddle120-env/lib/python3.5/site-packages/tornado/platform/asyncio.py\", line 132, in start\n    self.asyncio_loop.run_forever()\n  File \"/opt/conda/envs/python35-paddle120-env/lib/python3.5/site-packages/ipykernel/kernelapp.py\", line 505, in start\n    self.io_loop.start()\n  File \"/opt/conda/envs/python35-paddle120-env/lib/python3.5/site-packages/traitlets/config/application.py\", line 658, in launch_instance\n    app.start()\n  File \"/opt/conda/envs/python35-paddle120-env/lib/python3.5/site-packages/ipykernel_launcher.py\", line 16, in <module>\n    app.launch_new_instance()\n  File \"/opt/conda/envs/python35-paddle120-env/lib/python3.5/runpy.py\", line 85, in _run_code\n    exec(code, run_globals)\n  File \"/opt/conda/envs/python35-paddle120-env/lib/python3.5/runpy.py\", line 193, in _run_module_as_main\n    \"__main__\", mod_spec)\nC++ Callstacks: \nEnforce failed. Expected framework::product(lr_dims) == 1, but received framework::product(lr_dims):0 != 1:1.\nLearning rate should have 1 dimension at [/paddle/paddle/fluid/operators/optimizers/adam_op.cc:47]\nPaddlePaddle Call Stacks: \n0       0x7f536bbc5b28p void paddle::platform::EnforceNotMet::Init<std::string>(std::string, char const*, int) + 360\n1       0x7f536bbc5e77p paddle::platform::EnforceNotMet::EnforceNotMet(std::string const&, char const*, int) + 87\n2       0x7f536c68b95cp paddle::operators::AdamOp::InferShape(paddle::framework::InferShapeContext*) const + 4220\n3       0x7f536cf07d20p paddle::framework::OperatorWithKernel::RunImpl(paddle::framework::Scope const&, boost::variant<paddle::platform::CUDAPlace, paddle::platform::CPUPlace, paddle::platform::CUDAPinnedPlace, boost::detail::variant::void_, boost::detail::variant::void_, boost::detail::variant::void_, boost::detail::variant::void_, boost::detail::variant::void_, boost::detail::variant::void_, boost::detail::variant::void_, boost::detail::variant::void_, boost::detail::variant::void_, boost::detail::variant::void_, boost::detail::variant::void_, boost::detail::variant::void_, boost::detail::variant::void_, boost::detail::variant::void_, boost::detail::variant::void_, boost::detail::variant::void_, boost::detail::variant::void_> const&, paddle::framework::RuntimeContext*) const + 304\n4       0x7f536cf084d1p paddle::framework::OperatorWithKernel::RunImpl(paddle::framework::Scope const&, boost::variant<paddle::platform::CUDAPlace, paddle::platform::CPUPlace, paddle::platform::CUDAPinnedPlace, boost::detail::variant::void_, boost::detail::variant::void_, boost::detail::variant::void_, boost::detail::variant::void_, boost::detail::variant::void_, boost::detail::variant::void_, boost::detail::variant::void_, boost::detail::variant::void_, boost::detail::variant::void_, boost::detail::variant::void_, boost::detail::variant::void_, boost::detail::variant::void_, boost::detail::variant::void_, boost::detail::variant::void_, boost::detail::variant::void_, boost::detail::variant::void_, boost::detail::variant::void_> const&) const + 529\n5       0x7f536cf0637bp paddle::framework::OperatorBase::Run(paddle::framework::Scope const&, boost::variant<paddle::platform::CUDAPlace, paddle::platform::CPUPlace, paddle::platform::CUDAPinnedPlace, boost::detail::variant::void_, boost::detail::variant::void_, boost::detail::variant::void_, boost::detail::variant::void_, boost::detail::variant::void_, boost::detail::variant::void_, boost::detail::variant::void_, boost::detail::variant::void_, boost::detail::variant::void_, boost::detail::variant::void_, boost::detail::variant::void_, boost::detail::variant::void_, boost::detail::variant::void_, boost::detail::variant::void_, boost::detail::variant::void_, boost::detail::variant::void_, boost::detail::variant::void_> const&) + 267\n6       0x7f536bd4442ep paddle::framework::Executor::RunPreparedContext(paddle::framework::ExecutorPrepareContext*, paddle::framework::Scope*, bool, bool, bool) + 206\n7       0x7f536bd474afp paddle::framework::Executor::Run(paddle::framework::ProgramDesc const&, paddle::framework::Scope*, int, bool, bool, std::vector<std::string, std::allocator<std::string> > const&, bool) + 143\n8       0x7f536bbb7e5dp\n9       0x7f536bbf4956p\n10      0x7f53af487199p PyCFunction_Call + 233\n11      0x7f53af5223f9p PyEval_EvalFrameEx + 33545\n12      0x7f53af5244b6p\n13      0x7f53af5215b5p PyEval_EvalFrameEx + 29893\n14      0x7f53af5244b6p\n15      0x7f53af5215b5p PyEval_EvalFrameEx + 29893\n16      0x7f53af5244b6p\n17      0x7f53af5245a8p PyEval_EvalCodeEx + 72\n18      0x7f53af5245ebp PyEval_EvalCode + 59\n19      0x7f53af517c5dp\n20      0x7f53af487179p PyCFunction_Call + 201\n21      0x7f53af521dbep PyEval_EvalFrameEx + 31950\n22      0x7f53af45b410p _PyGen_Send + 128\n23      0x7f53af520953p PyEval_EvalFrameEx + 26723\n24      0x7f53af45b410p _PyGen_Send + 128\n25      0x7f53af520953p PyEval_EvalFrameEx + 26723\n26      0x7f53af45b410p _PyGen_Send + 128\n27      0x7f53af521d60p PyEval_EvalFrameEx + 31856\n28      0x7f53af5221d0p PyEval_EvalFrameEx + 32992\n29      0x7f53af5221d0p PyEval_EvalFrameEx + 32992\n30      0x7f53af5244b6p\n31      0x7f53af5245a8p PyEval_EvalCodeEx + 72\n32      0x7f53af463c33p\n33      0x7f53af43233ap PyObject_Call + 106\n34      0x7f53af51c6eep PyEval_EvalFrameEx + 9726\n35      0x7f53af5244b6p\n36      0x7f53af5215b5p PyEval_EvalFrameEx + 29893\n37      0x7f53af45a6bap\n38      0x7f53af515af6p\n39      0x7f53af487179p PyCFunction_Call + 201\n40      0x7f53af521dbep PyEval_EvalFrameEx + 31950\n41      0x7f53af5244b6p\n42      0x7f53af5215b5p PyEval_EvalFrameEx + 29893\n43      0x7f53af45a6bap\n44      0x7f53af515af6p\n45      0x7f53af487179p PyCFunction_Call + 201\n46      0x7f53af521dbep PyEval_EvalFrameEx + 31950\n47      0x7f53af5244b6p\n48      0x7f53af5215b5p PyEval_EvalFrameEx + 29893\n49      0x7f53af45a6bap\n50      0x7f53af515af6p\n51      0x7f53af487179p PyCFunction_Call + 201\n52      0x7f53af521dbep PyEval_EvalFrameEx + 31950\n53      0x7f53af5244b6p\n54      0x7f53af5245a8p PyEval_EvalCodeEx + 72\n55      0x7f53af463b56p\n56      0x7f53af43233ap PyObject_Call + 106\n57      0x7f53af51c6eep PyEval_EvalFrameEx + 9726\n58      0x7f53af45b410p _PyGen_Send + 128\n59      0x7f53af521d60p PyEval_EvalFrameEx + 31856\n60      0x7f53af5221d0p PyEval_EvalFrameEx + 32992\n61      0x7f53af5244b6p\n62      0x7f53af5245a8p PyEval_EvalCodeEx + 72\n63      0x7f53af463c33p\n64      0x7f53af43233ap PyObject_Call + 106\n65      0x7f53af51c6eep PyEval_EvalFrameEx + 9726\n66      0x7f53af5244b6p\n67      0x7f53af5245a8p PyEval_EvalCodeEx + 72\n68      0x7f53af463b56p\n69      0x7f53af43233ap PyObject_Call + 106\n70      0x7f53af597ccap\n71      0x7f53af43233ap PyObject_Call + 106\n72      0x7f53af51e4c5p PyEval_EvalFrameEx + 17365\n73      0x7f53af5244b6p\n74      0x7f53af5245a8p PyEval_EvalCodeEx + 72\n75      0x7f53af463b56p\n76      0x7f53af43233ap PyObject_Call + 106\n77      0x7f53af51c6eep PyEval_EvalFrameEx + 9726\n78      0x7f53af5221d0p PyEval_EvalFrameEx + 32992\n79      0x7f53af5221d0p PyEval_EvalFrameEx + 32992\n80      0x7f53af5221d0p PyEval_EvalFrameEx + 32992\n81      0x7f53af5221d0p PyEval_EvalFrameEx + 32992\n82      0x7f53af5221d0p PyEval_EvalFrameEx + 32992\n83      0x7f53af5244b6p\n84      0x7f53af5215b5p PyEval_EvalFrameEx + 29893\n85      0x7f53af5244b6p\n86      0x7f53af5245a8p PyEval_EvalCodeEx + 72\n87      0x7f53af5245ebp PyEval_EvalCode + 59\n88      0x7f53af517c5dp\n89      0x7f53af487179p PyCFunction_Call + 201\n90      0x7f53af521dbep PyEval_EvalFrameEx + 31950\n91      0x7f53af5244b6p\n92      0x7f53af5215b5p PyEval_EvalFrameEx + 29893\n93      0x7f53af5244b6p\n94      0x7f53af5245a8p PyEval_EvalCodeEx + 72\n95      0x7f53af463b56p\n96      0x7f53af43233ap PyObject_Call + 106\n97      0x7f53af570ba1p\n98      0x7f53af5714a5p Py_Main + 1493\n99            0x400b54p main + 356\n"
     ]
    }
   ],
   "source": [
    "EPOCH_NUM=2\r\n",
    "model_save_dir = \"/home/aistudio/work/hand.inference.model\"\r\n",
    "for pass_id in range(EPOCH_NUM):\r\n",
    "    # train \r\n",
    "    for batch_id, data in enumerate(train_reader()):                         #traverse train_reader\r\n",
    "        train_cost, train_acc = exe.run(program=fluid.default_main_program(),#run main program \r\n",
    "                                        feed=feeder.feed(data),              #feed the data into \r\n",
    "                                        fetch_list=[avg_cost, acc])          #fetch error and accuracy  \r\n",
    "        \r\n",
    "        all_train_iter=all_train_iter+BATCH_SIZE\r\n",
    "        all_train_iters.append(all_train_iter)\r\n",
    "        \r\n",
    "        all_train_costs.append(train_cost[0])\r\n",
    "        all_train_accs.append(train_acc[0])\r\n",
    "        \r\n",
    "        # print info and error and Accuracy each 200 batch \r\n",
    "        if batch_id % 200 == 0:\r\n",
    "            print('Pass:%d, Batch:%d, Cost:%0.5f, Accuracy:%0.5f' %\r\n",
    "                  (pass_id, batch_id, train_cost[0], train_acc[0]))\r\n",
    "\r\n",
    "    # train the model \r\n",
    "    test_accs = []\r\n",
    "    test_costs = []\r\n",
    "    # train on each testing round \r\n",
    "    for batch_id, data in enumerate(test_reader()):                         #traverse test_reader\r\n",
    "        test_cost, test_acc = exe.run(program=test_program, # execute the training program \r\n",
    "                                      feed=feeder.feed(data),               #feed in the data \r\n",
    "                                      fetch_list=[avg_cost, acc])           #fetch error and Accuracy\r\n",
    "        test_accs.append(test_acc[0])                                       #Accuracy on each batch\r\n",
    "        test_costs.append(test_cost[0])                                     #cost on each batch \r\n",
    "        \r\n",
    "       \r\n",
    "    # avg cost on each test \r\n",
    "    test_cost = (sum(test_costs) / len(test_costs))                         # avg error rate  on each round \r\n",
    "    test_acc = (sum(test_accs) / len(test_accs))                            # avg Accuracy on each round \r\n",
    "    print('Test:%d, Cost:%0.5f, Accuracy:%0.5f' % (pass_id, test_cost, test_acc))\r\n",
    "    \r\n",
    "    #save model \r\n",
    "\r\n",
    "if not os.path.exists(model_save_dir):\r\n",
    "    os.makedirs(model_save_dir)\r\n",
    "print ('save models to %s' % (model_save_dir))\r\n",
    "fluid.io.save_inference_model(model_save_dir,   \r\n",
    "                                  ['image'],    #inference need the data to feed\r\n",
    "                                  [predict],    #save the results of the Variables by the inference  \r\n",
    "                                  exe)             #executor saves the inference model\r\n",
    "\r\n",
    "print('训练模型保存完成！')\r\n",
    "draw_train_process(\"training\",all_train_iters,all_train_costs,all_train_accs,\"trainning cost\",\"trainning acc\")"
   ]
  },
  {
   "cell_type": "markdown",
   "metadata": {
    "collapsed": false
   },
   "source": [
    "# **Step5. model prediction**"
   ]
  },
  {
   "cell_type": "markdown",
   "metadata": {
    "collapsed": false
   },
   "source": [
    "（1）image propreccessing \n",
    "\n",
    "Before the prediction, need to do the image preprocessing.\n",
    "First need to do the grayscale to the images, and compress all the images to the size of 28 * 28, and transfer the images to 1d vectot, and do the standarization to the dataset"
   ]
  },
  {
   "cell_type": "code",
   "execution_count": 19,
   "metadata": {
    "collapsed": false
   },
   "outputs": [],
   "source": [
    "def load_image(file):\r\n",
    "    im = Image.open(file).convert('L')                        #grayscale the RGB to gray images, L represents gray images, pixels are in the range of 0-255\r\n",
    "    im = im.resize((28, 28), Image.ANTIALIAS)                 #resize image with high-quality in 28*28\r\n",
    "    im = np.array(im).reshape(1, 1, 28, 28).astype(np.float32)#reshape the array, make it a numby array \r\n",
    "    # print(im)\r\n",
    "    im = im / 255.0 * 2.0 - 1.0                               # standarizate the data into the range of [-1,1]\r\n",
    "    return im\r\n"
   ]
  },
  {
   "cell_type": "markdown",
   "metadata": {
    "collapsed": false
   },
   "source": [
    "（2）display the image with matplotlib"
   ]
  },
  {
   "cell_type": "code",
   "execution_count": 20,
   "metadata": {
    "collapsed": false
   },
   "outputs": [
    {
     "data": {
      "image/png": "[encoded data removed]",
      "text/plain": [
       "<Figure size 432x288 with 1 Axes>"
      ]
     },
     "metadata": {},
     "output_type": "display_data"
    }
   ],
   "source": [
    "infer_path='/home/aistudio/data/data2304/infer_3.png'\r\n",
    "img = Image.open(infer_path)\r\n",
    "plt.imshow(img)   \r\n",
    "plt.show()        "
   ]
  },
  {
   "cell_type": "markdown",
   "metadata": {
    "collapsed": false
   },
   "source": [
    "# (3)Create the Executer for prediction"
   ]
  },
  {
   "cell_type": "code",
   "execution_count": 21,
   "metadata": {
    "collapsed": false
   },
   "outputs": [],
   "source": [
    "infer_exe = fluid.Executor(place)\n",
    "inference_scope = fluid.core.Scope()"
   ]
  },
  {
   "cell_type": "markdown",
   "metadata": {
    "collapsed": false
   },
   "source": [
    "(4)start prediction \n",
    "\n",
    "use fluid.io.load_inference_model，predictor reads the pre_trained models params_dirname, and 来对从未遇见过的数据进行预测。"
   ]
  },
  {
   "cell_type": "code",
   "execution_count": 16,
   "metadata": {
    "collapsed": false
   },
   "outputs": [
    {
     "name": "stdout",
     "output_type": "stream",
     "text": [
      "该图片的预测结果的label为: 3\n"
     ]
    }
   ],
   "source": [
    "# load data and start predicting\r\n",
    "with fluid.scope_guard(inference_scope):\r\n",
    "    #获取训练好的模型\r\n",
    "    #load (inference model)\r\n",
    "    [inference_program,                                            \r\n",
    "     feed_target_names,                                            #str list，which contains all the variables that inference model needs \r\n",
    "     fetch_targets] = fluid.io.load_inference_model(model_save_dir,#fetch_targets：variable list, we could get the inference results. \r\n",
    "                                                    infer_exe)     #infer_exe: run the inference model's executor\r\n",
    "    img = load_image(infer_path)\r\n",
    "\r\n",
    "    results = infer_exe.run(program=inference_program,               # run the inference function\r\n",
    "                   feed={feed_target_names[0]: img},           #feed the img that needed to be predicted \r\n",
    "                   fetch_list=fetch_targets)                   # get the inference results \r\n",
    "    # 获取概率最大的label\r\n",
    "    lab = np.argsort(results)                                  #sort the results from small to large\r\n",
    "    #print(lab)\r\n",
    "    print(\"该图片的预测结果的label为: %d\" % lab[0][0][-1])     "
   ]
  },
  {
   "cell_type": "code",
   "execution_count": null,
   "metadata": {
    "collapsed": false
   },
   "outputs": [],
   "source": []
  }
 ],
 "metadata": {
  "kernelspec": {
   "display_name": "PaddlePaddle 1.5.0 (Python 3.5)",
   "language": "python",
   "name": "py35-paddle1.2.0"
  },
  "language_info": {
   "codemirror_mode": {
    "name": "ipython",
    "version": 3
   },
   "file_extension": ".py",
   "mimetype": "text/x-python",
   "name": "python",
   "nbconvert_exporter": "python",
   "pygments_lexer": "ipython3",
   "version": "3.5.5"
  }
 },
 "nbformat": 4,
 "nbformat_minor": 1
}
