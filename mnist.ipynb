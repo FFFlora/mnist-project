{
 "cells": [
  {
   "cell_type": "code",
   "execution_count": 47,
   "metadata": {},
   "outputs": [],
   "source": [
    "import time \n",
    "import matplotlib.pyplot as plt\n",
    "import numpy as np\n",
    "import pandas as pd\n",
    "import xgboost as xgb\n",
    "\n",
    "from sklearn.linear_model import LogisticRegression\n",
    "from sklearn.model_selection import train_test_split\n",
    "from sklearn.preprocessing import StandardScaler\n",
    "from sklearn.utils import check_random_state\n",
    "from sklearn.metrics import accuracy_score"
   ]
  },
  {
   "cell_type": "code",
   "execution_count": 48,
   "metadata": {},
   "outputs": [],
   "source": [
    "# for faster convergence\n",
    "train_samples = 5000\n",
    "\n",
    "data= pd.read_csv('mnist-project/mnist_784.csv')\n",
    "random_state = check_random_state(0)"
   ]
  },
  {
   "cell_type": "code",
   "execution_count": 49,
   "metadata": {},
   "outputs": [
    {
     "data": {
      "text/plain": [
       "0    5\n",
       "1    0\n",
       "2    4\n",
       "3    1\n",
       "4    9\n",
       "Name: class, dtype: int64"
      ]
     },
     "execution_count": 49,
     "metadata": {},
     "output_type": "execute_result"
    }
   ],
   "source": [
    "y = data['class']\n",
    "X = data.iloc[:,:-1]\n",
    "y.head()"
   ]
  },
  {
   "cell_type": "code",
   "execution_count": 65,
   "metadata": {},
   "outputs": [],
   "source": [
    "x_train, x_test,y_train, y_test = train_test_split(X,y,train_size=train_samples, test_size=10000,random_state=0)"
   ]
  },
  {
   "cell_type": "code",
   "execution_count": 66,
   "metadata": {},
   "outputs": [],
   "source": [
    "\"\"\"Standardization of a dataset is a common requirement for many machine learning estimators:\n",
    "they might behave badly if the individual feature do not more or less look like standard normally distributed data \n",
    "(e.g. Gaussian with 0 mean and unit variance).\n",
    "\"\"\"\n",
    "scaler = StandardScaler()\n",
    "x_train = scaler.fit_transform(x_train)\n",
    "x_test = scaler.transform(x_test)\n"
   ]
  },
  {
   "cell_type": "code",
   "execution_count": 75,
   "metadata": {},
   "outputs": [
    {
     "name": "stdout",
     "output_type": "stream",
     "text": [
      "0.8343\n"
     ]
    }
   ],
   "source": [
    "t0 = time.time()\n",
    "clf = LogisticRegression(C=50/train_samples,\n",
    "                        multi_class = 'multinomial',\n",
    "                        penalty ='l1',solver = 'saga',\n",
    "                        tol = 0.1)\n",
    "clf.fit(x_train,y_train)\n",
    "y_predicted1 = clf.predict(x_test)\n",
    "accuracyscore1 = accuracy_score(y_test, y_predicted1)\n",
    "print(accuracyscore1)"
   ]
  },
  {
   "cell_type": "code",
   "execution_count": 76,
   "metadata": {},
   "outputs": [
    {
     "name": "stdout",
     "output_type": "stream",
     "text": [
      "runtime in 5.749 s\n"
     ]
    },
    {
     "data": {
      "image/png": "[encoded data removed]",
      "text/plain": [
       "<Figure size 720x360 with 10 Axes>"
      ]
     },
     "metadata": {},
     "output_type": "display_data"
    }
   ],
   "source": [
    "coef1 = clf.coef_.copy()\n",
    "plt.figure(figsize=(10,5))\n",
    "scale1 = np.abs(coef1).max()\n",
    "\n",
    "for i in range(10):\n",
    "    l1_plot = plt.subplot(2,5,i+1)\n",
    "    l1_plot.imshow(coef1[i].reshape(28,28),interpolation='nearest',\n",
    "                 cmap=plt.cm.RdBu,vmin = -scale1,vmax=scale1)\n",
    "    l1_plot.set_xticks(())\n",
    "    l1_plot.set_yticks(())\n",
    "    l1_plot.set_xlabel('Class %i'% i)\n",
    "plt.suptitle('Classification vector for...')\n",
    "run_time=time.time()-t0\n",
    "print('runtime in %.3f s' % run_time)\n",
    "plt.show()"
   ]
  },
  {
   "cell_type": "code",
   "execution_count": 67,
   "metadata": {},
   "outputs": [
    {
     "data": {
      "text/plain": [
       "XGBClassifier(alpha=0.1, base_score=0.5, booster='gblinear',\n",
       "       colsample_bylevel=1, colsample_bynode=1, colsample_bytree=1,\n",
       "       gamma=0, learning_rate=0.1, max_delta_step=0, max_depth=3,\n",
       "       min_child_weight=1, missing=None, n_estimators=100, n_jobs=1,\n",
       "       nthread=None, objective='multi:softprob', random_state=0,\n",
       "       reg_alpha=0, reg_lambda=1, scale_pos_weight=1, seed=None,\n",
       "       silent=None, subsample=1, verbosity=1)"
      ]
     },
     "execution_count": 67,
     "metadata": {},
     "output_type": "execute_result"
    }
   ],
   "source": [
    "t0 = time.time()\n",
    "modelxgb = xgb.XGBClassifier(booster='gblinear',alpha =0.1)\n",
    "modelxgb.fit(x_train,y_train)"
   ]
  },
  {
   "cell_type": "code",
   "execution_count": 55,
   "metadata": {},
   "outputs": [
    {
     "name": "stderr",
     "output_type": "stream",
     "text": [
      "C:\\ProgramData\\Anaconda3\\lib\\site-packages\\sklearn\\preprocessing\\label.py:151: DeprecationWarning: The truth value of an empty array is ambiguous. Returning False, but in future this will result in an error. Use `array.size > 0` to check that an array is not empty.\n",
      "  if diff:\n"
     ]
    },
    {
     "data": {
      "text/plain": [
       "0.8562"
      ]
     },
     "execution_count": 55,
     "metadata": {},
     "output_type": "execute_result"
    }
   ],
   "source": [
    "y_predicted2 = modelxgb.predict(x_test)\n",
    "accuracyscore2 = accuracy_score(y_test, y_predicted2)\n",
    "accuracyscore2"
   ]
  },
  {
   "cell_type": "code",
   "execution_count": 72,
   "metadata": {
    "scrolled": false
   },
   "outputs": [
    {
     "name": "stdout",
     "output_type": "stream",
     "text": [
      "runtime in 1914.610 s\n"
     ]
    },
    {
     "data": {
      "image/png": "[encoded data removed]",
      "text/plain": [
       "<Figure size 720x360 with 10 Axes>"
      ]
     },
     "metadata": {},
     "output_type": "display_data"
    }
   ],
   "source": [
    "coef2 = modelxgb.coef_.copy()\n",
    "plt.figure(figsize=(10,5))\n",
    "scale2 = np.abs(coef2).max()\n",
    "for i in range(10):\n",
    "    l1_plot = plt.subplot(2,5,i+1)\n",
    "    l1_plot.imshow(coef[i].reshape(28,28),interpolation='nearest',\n",
    "                 cmap=plt.cm.RdBu,vmin = -scale2,vmax=scale2)\n",
    "    l1_plot.set_xticks(())\n",
    "    l1_plot.set_yticks(())\n",
    "    l1_plot.set_xlabel('Class %i'% i)\n",
    "plt.suptitle('Classification vector for...')\n",
    "run_time=time.time()-t0\n",
    "print('runtime in %.3f s' % run_time)\n",
    "plt.show()"
   ]
  },
  {
   "cell_type": "code",
   "execution_count": 77,
   "metadata": {
    "scrolled": true
   },
   "outputs": [
    {
     "name": "stderr",
     "output_type": "stream",
     "text": [
      "C:\\ProgramData\\Anaconda3\\lib\\site-packages\\xgboost\\core.py:587: FutureWarning: Series.base is deprecated and will be removed in a future version\n",
      "  if getattr(data, 'base', None) is not None and \\\n"
     ]
    },
    {
     "name": "stdout",
     "output_type": "stream",
     "text": [
      "[0]\ttrain-merror:0.1612\tvalidation-merror:0.2263\n",
      "Multiple eval metrics have been passed: 'validation-merror' will be used for early stopping.\n",
      "\n",
      "Will train until validation-merror hasn't improved in 50 rounds.\n",
      "[1]\ttrain-merror:0.1186\tvalidation-merror:0.1739\n",
      "[2]\ttrain-merror:0.1062\tvalidation-merror:0.1662\n",
      "[3]\ttrain-merror:0.0956\tvalidation-merror:0.153\n",
      "[4]\ttrain-merror:0.0858\tvalidation-merror:0.1415\n",
      "[5]\ttrain-merror:0.0812\tvalidation-merror:0.1378\n",
      "[6]\ttrain-merror:0.079\tvalidation-merror:0.136\n",
      "[7]\ttrain-merror:0.0742\tvalidation-merror:0.1331\n",
      "[8]\ttrain-merror:0.0728\tvalidation-merror:0.1306\n",
      "[9]\ttrain-merror:0.0696\tvalidation-merror:0.1267\n",
      "[10]\ttrain-merror:0.0686\tvalidation-merror:0.1278\n",
      "[11]\ttrain-merror:0.068\tvalidation-merror:0.1268\n",
      "[12]\ttrain-merror:0.0674\tvalidation-merror:0.1245\n",
      "[13]\ttrain-merror:0.0656\tvalidation-merror:0.1243\n",
      "[14]\ttrain-merror:0.065\tvalidation-merror:0.1232\n",
      "[15]\ttrain-merror:0.0622\tvalidation-merror:0.1208\n",
      "[16]\ttrain-merror:0.0624\tvalidation-merror:0.1205\n",
      "[17]\ttrain-merror:0.0608\tvalidation-merror:0.1196\n",
      "[18]\ttrain-merror:0.0602\tvalidation-merror:0.1192\n",
      "[19]\ttrain-merror:0.0586\tvalidation-merror:0.1167\n",
      "[20]\ttrain-merror:0.058\tvalidation-merror:0.1167\n",
      "[21]\ttrain-merror:0.0574\tvalidation-merror:0.1178\n",
      "[22]\ttrain-merror:0.0572\tvalidation-merror:0.1167\n",
      "[23]\ttrain-merror:0.0562\tvalidation-merror:0.1173\n",
      "[24]\ttrain-merror:0.056\tvalidation-merror:0.1168\n",
      "[25]\ttrain-merror:0.0552\tvalidation-merror:0.115\n",
      "[26]\ttrain-merror:0.0544\tvalidation-merror:0.1146\n",
      "[27]\ttrain-merror:0.0532\tvalidation-merror:0.1135\n",
      "[28]\ttrain-merror:0.0532\tvalidation-merror:0.1137\n",
      "[29]\ttrain-merror:0.0526\tvalidation-merror:0.1128\n",
      "[30]\ttrain-merror:0.051\tvalidation-merror:0.1123\n",
      "[31]\ttrain-merror:0.0494\tvalidation-merror:0.1112\n",
      "[32]\ttrain-merror:0.0486\tvalidation-merror:0.1109\n",
      "[33]\ttrain-merror:0.0488\tvalidation-merror:0.1106\n",
      "[34]\ttrain-merror:0.0472\tvalidation-merror:0.1097\n",
      "[35]\ttrain-merror:0.0468\tvalidation-merror:0.1094\n",
      "[36]\ttrain-merror:0.0462\tvalidation-merror:0.1085\n",
      "[37]\ttrain-merror:0.0452\tvalidation-merror:0.1076\n",
      "[38]\ttrain-merror:0.044\tvalidation-merror:0.1076\n",
      "[39]\ttrain-merror:0.0434\tvalidation-merror:0.1073\n",
      "[40]\ttrain-merror:0.043\tvalidation-merror:0.1067\n",
      "[41]\ttrain-merror:0.0426\tvalidation-merror:0.1059\n",
      "[42]\ttrain-merror:0.042\tvalidation-merror:0.1054\n",
      "[43]\ttrain-merror:0.0414\tvalidation-merror:0.1047\n",
      "[44]\ttrain-merror:0.0406\tvalidation-merror:0.1049\n",
      "[45]\ttrain-merror:0.0404\tvalidation-merror:0.1052\n",
      "[46]\ttrain-merror:0.0394\tvalidation-merror:0.1042\n",
      "[47]\ttrain-merror:0.0394\tvalidation-merror:0.1037\n",
      "[48]\ttrain-merror:0.0392\tvalidation-merror:0.1034\n",
      "[49]\ttrain-merror:0.0384\tvalidation-merror:0.1034\n",
      "[50]\ttrain-merror:0.0376\tvalidation-merror:0.1029\n",
      "[51]\ttrain-merror:0.0372\tvalidation-merror:0.102\n",
      "[52]\ttrain-merror:0.0368\tvalidation-merror:0.1021\n",
      "[53]\ttrain-merror:0.0358\tvalidation-merror:0.101\n",
      "[54]\ttrain-merror:0.0358\tvalidation-merror:0.1007\n",
      "[55]\ttrain-merror:0.0354\tvalidation-merror:0.1007\n",
      "[56]\ttrain-merror:0.0352\tvalidation-merror:0.1005\n",
      "[57]\ttrain-merror:0.0352\tvalidation-merror:0.1001\n",
      "[58]\ttrain-merror:0.0346\tvalidation-merror:0.0993\n",
      "[59]\ttrain-merror:0.0342\tvalidation-merror:0.0991\n",
      "[60]\ttrain-merror:0.0336\tvalidation-merror:0.099\n",
      "[61]\ttrain-merror:0.0328\tvalidation-merror:0.0984\n",
      "[62]\ttrain-merror:0.0326\tvalidation-merror:0.0978\n",
      "[63]\ttrain-merror:0.032\tvalidation-merror:0.0978\n",
      "[64]\ttrain-merror:0.0322\tvalidation-merror:0.0973\n",
      "[65]\ttrain-merror:0.0312\tvalidation-merror:0.097\n",
      "[66]\ttrain-merror:0.0312\tvalidation-merror:0.097\n",
      "[67]\ttrain-merror:0.031\tvalidation-merror:0.0969\n",
      "[68]\ttrain-merror:0.0306\tvalidation-merror:0.097\n",
      "[69]\ttrain-merror:0.0302\tvalidation-merror:0.0964\n",
      "[70]\ttrain-merror:0.0296\tvalidation-merror:0.0963\n",
      "[71]\ttrain-merror:0.0296\tvalidation-merror:0.0963\n",
      "[72]\ttrain-merror:0.0294\tvalidation-merror:0.0956\n",
      "[73]\ttrain-merror:0.029\tvalidation-merror:0.0954\n",
      "[74]\ttrain-merror:0.029\tvalidation-merror:0.0953\n",
      "[75]\ttrain-merror:0.0282\tvalidation-merror:0.0954\n",
      "[76]\ttrain-merror:0.028\tvalidation-merror:0.0951\n",
      "[77]\ttrain-merror:0.0276\tvalidation-merror:0.0946\n",
      "[78]\ttrain-merror:0.027\tvalidation-merror:0.0945\n",
      "[79]\ttrain-merror:0.0264\tvalidation-merror:0.0948\n",
      "[80]\ttrain-merror:0.0256\tvalidation-merror:0.094\n",
      "[81]\ttrain-merror:0.0254\tvalidation-merror:0.094\n",
      "[82]\ttrain-merror:0.0242\tvalidation-merror:0.0929\n",
      "[83]\ttrain-merror:0.024\tvalidation-merror:0.0922\n",
      "[84]\ttrain-merror:0.0238\tvalidation-merror:0.0927\n",
      "[85]\ttrain-merror:0.023\tvalidation-merror:0.0921\n",
      "[86]\ttrain-merror:0.0228\tvalidation-merror:0.0924\n",
      "[87]\ttrain-merror:0.023\tvalidation-merror:0.0918\n",
      "[88]\ttrain-merror:0.0228\tvalidation-merror:0.0913\n",
      "[89]\ttrain-merror:0.0224\tvalidation-merror:0.0913\n",
      "[90]\ttrain-merror:0.0222\tvalidation-merror:0.0907\n",
      "[91]\ttrain-merror:0.022\tvalidation-merror:0.0907\n",
      "[92]\ttrain-merror:0.022\tvalidation-merror:0.0904\n",
      "[93]\ttrain-merror:0.022\tvalidation-merror:0.0904\n",
      "[94]\ttrain-merror:0.0216\tvalidation-merror:0.0905\n",
      "[95]\ttrain-merror:0.0212\tvalidation-merror:0.0901\n",
      "[96]\ttrain-merror:0.0212\tvalidation-merror:0.0901\n",
      "[97]\ttrain-merror:0.0206\tvalidation-merror:0.0892\n",
      "[98]\ttrain-merror:0.02\tvalidation-merror:0.0892\n",
      "[99]\ttrain-merror:0.0202\tvalidation-merror:0.0889\n",
      "[100]\ttrain-merror:0.0202\tvalidation-merror:0.0892\n",
      "[101]\ttrain-merror:0.02\tvalidation-merror:0.0895\n",
      "[102]\ttrain-merror:0.0198\tvalidation-merror:0.0893\n",
      "[103]\ttrain-merror:0.0198\tvalidation-merror:0.0894\n",
      "[104]\ttrain-merror:0.0194\tvalidation-merror:0.089\n",
      "[105]\ttrain-merror:0.0188\tvalidation-merror:0.0887\n",
      "[106]\ttrain-merror:0.0186\tvalidation-merror:0.0885\n",
      "[107]\ttrain-merror:0.0186\tvalidation-merror:0.0885\n",
      "[108]\ttrain-merror:0.018\tvalidation-merror:0.0878\n",
      "[109]\ttrain-merror:0.0184\tvalidation-merror:0.0873\n",
      "[110]\ttrain-merror:0.018\tvalidation-merror:0.0872\n",
      "[111]\ttrain-merror:0.0178\tvalidation-merror:0.0874\n",
      "[112]\ttrain-merror:0.0172\tvalidation-merror:0.0869\n",
      "[113]\ttrain-merror:0.0176\tvalidation-merror:0.0875\n",
      "[114]\ttrain-merror:0.0172\tvalidation-merror:0.0873\n",
      "[115]\ttrain-merror:0.0168\tvalidation-merror:0.0874\n",
      "[116]\ttrain-merror:0.0166\tvalidation-merror:0.0871\n",
      "[117]\ttrain-merror:0.0164\tvalidation-merror:0.0871\n",
      "[118]\ttrain-merror:0.016\tvalidation-merror:0.0869\n",
      "[119]\ttrain-merror:0.0158\tvalidation-merror:0.0866\n",
      "[120]\ttrain-merror:0.0158\tvalidation-merror:0.0867\n",
      "[121]\ttrain-merror:0.0156\tvalidation-merror:0.0869\n",
      "[122]\ttrain-merror:0.0154\tvalidation-merror:0.0866\n",
      "[123]\ttrain-merror:0.0152\tvalidation-merror:0.0863\n",
      "[124]\ttrain-merror:0.015\tvalidation-merror:0.086\n",
      "[125]\ttrain-merror:0.0146\tvalidation-merror:0.0859\n",
      "[126]\ttrain-merror:0.0146\tvalidation-merror:0.0858\n",
      "[127]\ttrain-merror:0.0146\tvalidation-merror:0.0859\n",
      "[128]\ttrain-merror:0.0142\tvalidation-merror:0.0861\n",
      "[129]\ttrain-merror:0.0144\tvalidation-merror:0.0857\n",
      "[130]\ttrain-merror:0.0144\tvalidation-merror:0.0858\n",
      "[131]\ttrain-merror:0.0142\tvalidation-merror:0.0851\n",
      "[132]\ttrain-merror:0.014\tvalidation-merror:0.0853\n",
      "[133]\ttrain-merror:0.0138\tvalidation-merror:0.0852\n",
      "[134]\ttrain-merror:0.0132\tvalidation-merror:0.0853\n",
      "[135]\ttrain-merror:0.0132\tvalidation-merror:0.0854\n",
      "[136]\ttrain-merror:0.0132\tvalidation-merror:0.0851\n",
      "[137]\ttrain-merror:0.0132\tvalidation-merror:0.0851\n",
      "[138]\ttrain-merror:0.0132\tvalidation-merror:0.0845\n",
      "[139]\ttrain-merror:0.0134\tvalidation-merror:0.0846\n",
      "[140]\ttrain-merror:0.013\tvalidation-merror:0.0847\n",
      "[141]\ttrain-merror:0.0128\tvalidation-merror:0.0847\n",
      "[142]\ttrain-merror:0.0128\tvalidation-merror:0.0845\n",
      "[143]\ttrain-merror:0.013\tvalidation-merror:0.0844\n",
      "[144]\ttrain-merror:0.013\tvalidation-merror:0.0843\n",
      "[145]\ttrain-merror:0.013\tvalidation-merror:0.0842\n",
      "[146]\ttrain-merror:0.0128\tvalidation-merror:0.0844\n",
      "[147]\ttrain-merror:0.0126\tvalidation-merror:0.0846\n",
      "[148]\ttrain-merror:0.0128\tvalidation-merror:0.0845\n",
      "[149]\ttrain-merror:0.0128\tvalidation-merror:0.0846\n",
      "[150]\ttrain-merror:0.0128\tvalidation-merror:0.0846\n",
      "[151]\ttrain-merror:0.0128\tvalidation-merror:0.0843\n",
      "[152]\ttrain-merror:0.0126\tvalidation-merror:0.084\n",
      "[153]\ttrain-merror:0.0124\tvalidation-merror:0.0839\n",
      "[154]\ttrain-merror:0.0124\tvalidation-merror:0.084\n",
      "[155]\ttrain-merror:0.012\tvalidation-merror:0.0837\n",
      "[156]\ttrain-merror:0.0118\tvalidation-merror:0.0837\n",
      "[157]\ttrain-merror:0.0118\tvalidation-merror:0.0837\n",
      "[158]\ttrain-merror:0.0116\tvalidation-merror:0.0836\n",
      "[159]\ttrain-merror:0.0116\tvalidation-merror:0.0834\n",
      "[160]\ttrain-merror:0.0116\tvalidation-merror:0.0831\n"
     ]
    },
    {
     "name": "stdout",
     "output_type": "stream",
     "text": [
      "[161]\ttrain-merror:0.0116\tvalidation-merror:0.0828\n",
      "[162]\ttrain-merror:0.0116\tvalidation-merror:0.0829\n",
      "[163]\ttrain-merror:0.0116\tvalidation-merror:0.083\n",
      "[164]\ttrain-merror:0.0114\tvalidation-merror:0.0828\n",
      "[165]\ttrain-merror:0.0114\tvalidation-merror:0.0827\n",
      "[166]\ttrain-merror:0.0114\tvalidation-merror:0.0829\n",
      "[167]\ttrain-merror:0.0112\tvalidation-merror:0.0827\n",
      "[168]\ttrain-merror:0.0112\tvalidation-merror:0.0827\n",
      "[169]\ttrain-merror:0.011\tvalidation-merror:0.0826\n",
      "[170]\ttrain-merror:0.011\tvalidation-merror:0.0827\n",
      "[171]\ttrain-merror:0.0106\tvalidation-merror:0.0825\n",
      "[172]\ttrain-merror:0.0106\tvalidation-merror:0.0823\n",
      "[173]\ttrain-merror:0.0108\tvalidation-merror:0.0823\n",
      "[174]\ttrain-merror:0.0108\tvalidation-merror:0.0823\n",
      "[175]\ttrain-merror:0.0108\tvalidation-merror:0.0823\n",
      "[176]\ttrain-merror:0.0106\tvalidation-merror:0.0823\n",
      "[177]\ttrain-merror:0.0104\tvalidation-merror:0.0822\n",
      "[178]\ttrain-merror:0.0104\tvalidation-merror:0.0824\n",
      "[179]\ttrain-merror:0.0104\tvalidation-merror:0.0824\n",
      "[180]\ttrain-merror:0.0104\tvalidation-merror:0.0824\n",
      "[181]\ttrain-merror:0.0104\tvalidation-merror:0.0822\n",
      "[182]\ttrain-merror:0.0102\tvalidation-merror:0.0821\n",
      "[183]\ttrain-merror:0.0102\tvalidation-merror:0.0818\n",
      "[184]\ttrain-merror:0.0102\tvalidation-merror:0.0818\n",
      "[185]\ttrain-merror:0.0102\tvalidation-merror:0.0818\n",
      "[186]\ttrain-merror:0.0102\tvalidation-merror:0.0817\n",
      "[187]\ttrain-merror:0.0102\tvalidation-merror:0.0817\n",
      "[188]\ttrain-merror:0.01\tvalidation-merror:0.0818\n",
      "[189]\ttrain-merror:0.01\tvalidation-merror:0.0817\n",
      "[190]\ttrain-merror:0.01\tvalidation-merror:0.0818\n",
      "[191]\ttrain-merror:0.01\tvalidation-merror:0.0817\n",
      "[192]\ttrain-merror:0.01\tvalidation-merror:0.0818\n",
      "[193]\ttrain-merror:0.01\tvalidation-merror:0.0816\n",
      "[194]\ttrain-merror:0.01\tvalidation-merror:0.0816\n",
      "[195]\ttrain-merror:0.01\tvalidation-merror:0.0816\n",
      "[196]\ttrain-merror:0.0098\tvalidation-merror:0.0816\n",
      "[197]\ttrain-merror:0.0098\tvalidation-merror:0.0816\n",
      "[198]\ttrain-merror:0.01\tvalidation-merror:0.0816\n",
      "[199]\ttrain-merror:0.01\tvalidation-merror:0.0816\n",
      "[200]\ttrain-merror:0.0098\tvalidation-merror:0.0816\n",
      "[201]\ttrain-merror:0.0098\tvalidation-merror:0.0816\n",
      "[202]\ttrain-merror:0.0098\tvalidation-merror:0.0817\n",
      "[203]\ttrain-merror:0.0098\tvalidation-merror:0.0818\n",
      "[204]\ttrain-merror:0.0098\tvalidation-merror:0.0817\n",
      "[205]\ttrain-merror:0.0098\tvalidation-merror:0.0816\n",
      "[206]\ttrain-merror:0.0096\tvalidation-merror:0.0816\n",
      "[207]\ttrain-merror:0.0096\tvalidation-merror:0.0816\n",
      "[208]\ttrain-merror:0.0096\tvalidation-merror:0.0816\n",
      "[209]\ttrain-merror:0.0094\tvalidation-merror:0.0816\n",
      "[210]\ttrain-merror:0.0094\tvalidation-merror:0.0816\n",
      "[211]\ttrain-merror:0.0094\tvalidation-merror:0.0816\n",
      "[212]\ttrain-merror:0.0094\tvalidation-merror:0.0816\n",
      "[213]\ttrain-merror:0.0094\tvalidation-merror:0.0814\n",
      "[214]\ttrain-merror:0.0092\tvalidation-merror:0.0815\n",
      "[215]\ttrain-merror:0.0092\tvalidation-merror:0.0813\n",
      "[216]\ttrain-merror:0.0092\tvalidation-merror:0.0813\n",
      "[217]\ttrain-merror:0.0094\tvalidation-merror:0.0815\n",
      "[218]\ttrain-merror:0.0094\tvalidation-merror:0.0815\n",
      "[219]\ttrain-merror:0.0094\tvalidation-merror:0.0814\n",
      "[220]\ttrain-merror:0.0094\tvalidation-merror:0.0814\n",
      "[221]\ttrain-merror:0.0094\tvalidation-merror:0.0814\n",
      "[222]\ttrain-merror:0.0094\tvalidation-merror:0.0814\n",
      "[223]\ttrain-merror:0.0094\tvalidation-merror:0.0815\n",
      "[224]\ttrain-merror:0.0094\tvalidation-merror:0.0815\n",
      "[225]\ttrain-merror:0.0094\tvalidation-merror:0.0815\n",
      "[226]\ttrain-merror:0.0094\tvalidation-merror:0.0815\n",
      "[227]\ttrain-merror:0.0094\tvalidation-merror:0.0814\n",
      "[228]\ttrain-merror:0.0094\tvalidation-merror:0.0814\n",
      "[229]\ttrain-merror:0.0094\tvalidation-merror:0.0814\n",
      "[230]\ttrain-merror:0.0094\tvalidation-merror:0.0813\n",
      "[231]\ttrain-merror:0.0094\tvalidation-merror:0.0813\n",
      "[232]\ttrain-merror:0.0094\tvalidation-merror:0.0813\n",
      "[233]\ttrain-merror:0.0094\tvalidation-merror:0.0812\n",
      "[234]\ttrain-merror:0.0094\tvalidation-merror:0.0812\n",
      "[235]\ttrain-merror:0.0094\tvalidation-merror:0.0813\n",
      "[236]\ttrain-merror:0.0094\tvalidation-merror:0.0814\n",
      "[237]\ttrain-merror:0.0094\tvalidation-merror:0.0814\n",
      "[238]\ttrain-merror:0.0094\tvalidation-merror:0.0814\n",
      "[239]\ttrain-merror:0.0094\tvalidation-merror:0.0814\n",
      "[240]\ttrain-merror:0.0094\tvalidation-merror:0.0814\n",
      "[241]\ttrain-merror:0.0094\tvalidation-merror:0.0814\n",
      "[242]\ttrain-merror:0.0094\tvalidation-merror:0.0815\n",
      "[243]\ttrain-merror:0.0094\tvalidation-merror:0.0815\n",
      "[244]\ttrain-merror:0.0094\tvalidation-merror:0.0814\n",
      "[245]\ttrain-merror:0.0094\tvalidation-merror:0.0813\n",
      "[246]\ttrain-merror:0.0094\tvalidation-merror:0.0813\n",
      "[247]\ttrain-merror:0.0094\tvalidation-merror:0.0813\n",
      "[248]\ttrain-merror:0.0094\tvalidation-merror:0.0813\n",
      "[249]\ttrain-merror:0.0094\tvalidation-merror:0.0811\n",
      "[250]\ttrain-merror:0.0094\tvalidation-merror:0.0811\n",
      "[251]\ttrain-merror:0.0094\tvalidation-merror:0.0811\n",
      "[252]\ttrain-merror:0.0094\tvalidation-merror:0.0811\n",
      "[253]\ttrain-merror:0.0094\tvalidation-merror:0.081\n",
      "[254]\ttrain-merror:0.0094\tvalidation-merror:0.081\n",
      "[255]\ttrain-merror:0.0094\tvalidation-merror:0.081\n",
      "[256]\ttrain-merror:0.0094\tvalidation-merror:0.0808\n",
      "[257]\ttrain-merror:0.0094\tvalidation-merror:0.0808\n",
      "[258]\ttrain-merror:0.0094\tvalidation-merror:0.0808\n",
      "[259]\ttrain-merror:0.0094\tvalidation-merror:0.0809\n",
      "[260]\ttrain-merror:0.0094\tvalidation-merror:0.081\n",
      "[261]\ttrain-merror:0.0094\tvalidation-merror:0.0811\n",
      "[262]\ttrain-merror:0.0094\tvalidation-merror:0.0811\n",
      "[263]\ttrain-merror:0.0094\tvalidation-merror:0.0811\n",
      "[264]\ttrain-merror:0.0094\tvalidation-merror:0.0811\n",
      "[265]\ttrain-merror:0.0094\tvalidation-merror:0.0812\n",
      "[266]\ttrain-merror:0.0094\tvalidation-merror:0.0812\n",
      "[267]\ttrain-merror:0.0094\tvalidation-merror:0.0811\n",
      "[268]\ttrain-merror:0.0092\tvalidation-merror:0.0811\n",
      "[269]\ttrain-merror:0.0092\tvalidation-merror:0.0811\n",
      "[270]\ttrain-merror:0.0092\tvalidation-merror:0.0811\n",
      "[271]\ttrain-merror:0.0092\tvalidation-merror:0.081\n",
      "[272]\ttrain-merror:0.0092\tvalidation-merror:0.081\n",
      "[273]\ttrain-merror:0.0092\tvalidation-merror:0.081\n",
      "[274]\ttrain-merror:0.0092\tvalidation-merror:0.081\n",
      "[275]\ttrain-merror:0.0092\tvalidation-merror:0.081\n",
      "[276]\ttrain-merror:0.0092\tvalidation-merror:0.081\n",
      "[277]\ttrain-merror:0.0092\tvalidation-merror:0.081\n",
      "[278]\ttrain-merror:0.0092\tvalidation-merror:0.081\n",
      "[279]\ttrain-merror:0.0092\tvalidation-merror:0.081\n",
      "[280]\ttrain-merror:0.0092\tvalidation-merror:0.081\n",
      "[281]\ttrain-merror:0.0092\tvalidation-merror:0.081\n",
      "[282]\ttrain-merror:0.0092\tvalidation-merror:0.081\n",
      "[283]\ttrain-merror:0.0094\tvalidation-merror:0.081\n",
      "[284]\ttrain-merror:0.0094\tvalidation-merror:0.081\n",
      "[285]\ttrain-merror:0.0094\tvalidation-merror:0.081\n",
      "[286]\ttrain-merror:0.0094\tvalidation-merror:0.081\n",
      "[287]\ttrain-merror:0.0094\tvalidation-merror:0.0809\n",
      "[288]\ttrain-merror:0.0092\tvalidation-merror:0.081\n",
      "[289]\ttrain-merror:0.0092\tvalidation-merror:0.081\n",
      "[290]\ttrain-merror:0.0092\tvalidation-merror:0.081\n",
      "[291]\ttrain-merror:0.0092\tvalidation-merror:0.081\n",
      "[292]\ttrain-merror:0.0092\tvalidation-merror:0.081\n",
      "[293]\ttrain-merror:0.0092\tvalidation-merror:0.081\n",
      "[294]\ttrain-merror:0.0092\tvalidation-merror:0.081\n",
      "[295]\ttrain-merror:0.0092\tvalidation-merror:0.081\n",
      "[296]\ttrain-merror:0.0092\tvalidation-merror:0.0812\n",
      "[297]\ttrain-merror:0.0092\tvalidation-merror:0.0812\n",
      "[298]\ttrain-merror:0.0092\tvalidation-merror:0.0813\n",
      "[299]\ttrain-merror:0.009\tvalidation-merror:0.0812\n",
      "[300]\ttrain-merror:0.0088\tvalidation-merror:0.0812\n",
      "[301]\ttrain-merror:0.0088\tvalidation-merror:0.0812\n",
      "[302]\ttrain-merror:0.009\tvalidation-merror:0.0812\n",
      "[303]\ttrain-merror:0.009\tvalidation-merror:0.0812\n",
      "[304]\ttrain-merror:0.009\tvalidation-merror:0.0812\n",
      "[305]\ttrain-merror:0.0086\tvalidation-merror:0.0812\n",
      "[306]\ttrain-merror:0.0086\tvalidation-merror:0.0812\n",
      "Stopping. Best iteration:\n",
      "[256]\ttrain-merror:0.0094\tvalidation-merror:0.0808\n",
      "\n"
     ]
    }
   ],
   "source": [
    "param_list = [(\"eta\", 0.08), (\"max_depth\", 6), (\"subsample\", 0.8), (\"colsample_bytree\", 0.8), (\"objective\", \"multi:softmax\"), (\"eval_metric\", \"merror\"), (\"alpha\", 8), (\"lambda\", 2), (\"num_class\", 10)]\n",
    "n_rounds = 600\n",
    "early_stopping = 50\n",
    "    \n",
    "d_train = xgb.DMatrix(x_train, label=y_train)\n",
    "d_val = xgb.DMatrix(x_test, label=y_test)\n",
    "eval_list = [(d_train, \"train\"), (d_val, \"validation\")]\n",
    "bst = xgb.train(param_list, d_train, n_rounds, evals=eval_list, early_stopping_rounds=early_stopping, verbose_eval=True)"
   ]
  },
  {
   "cell_type": "code",
   "execution_count": 79,
   "metadata": {},
   "outputs": [
    {
     "data": {
      "text/plain": [
       "0.9188"
      ]
     },
     "execution_count": 79,
     "metadata": {},
     "output_type": "execute_result"
    }
   ],
   "source": [
    "\n",
    "d_test = xgb.DMatrix(data=x_test)\n",
    "y_pred = bst.predict(d_test)\n",
    "\n",
    "accuracyscore3 = accuracy_score(y_test, y_pred)\n",
    "accuracyscore3"
   ]
  },
  {
   "cell_type": "code",
   "execution_count": 83,
   "metadata": {},
   "outputs": [
    {
     "data": {
      "text/plain": [
       "<matplotlib.axes._subplots.AxesSubplot at 0x1e199d03208>"
      ]
     },
     "execution_count": 83,
     "metadata": {},
     "output_type": "execute_result"
    },
    {
     "data": {
      "image/png": "[encoded data removed]",
      "text/plain": [
       "<Figure size 432x288 with 1 Axes>"
      ]
     },
     "metadata": {
      "needs_background": "light"
     },
     "output_type": "display_data"
    }
   ],
   "source": [
    "xgb.plot_importance(bst,max_num_features=10,importance_type='cover')"
   ]
  }
 ],
 "metadata": {
  "kernelspec": {
   "display_name": "Python 3",
   "language": "python",
   "name": "python3"
  },
  "language_info": {
   "codemirror_mode": {
    "name": "ipython",
    "version": 3
   },
   "file_extension": ".py",
   "mimetype": "text/x-python",
   "name": "python",
   "nbconvert_exporter": "python",
   "pygments_lexer": "ipython3",
   "version": "3.7.0"
  }
 },
 "nbformat": 4,
 "nbformat_minor": 2
}
